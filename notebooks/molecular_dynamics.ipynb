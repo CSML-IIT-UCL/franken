{
 "cells": [
  {
   "cell_type": "markdown",
   "id": "c91cf170",
   "metadata": {},
   "source": [
    "# Molecular dynamics with franken and ASE\n",
    "\n",
    "In this notebook we show how to perform MD with a trained franken model.\n",
    "Once again we use the water dataset as a simple example, and finetune the [MACE-MP0 foundation model](https://mace-docs.readthedocs.io/en/latest/guide/foundation_models.html) which was trained on the materials-project dataset to accurately predict a potential field at a high level of theory."
   ]
  },
  {
   "cell_type": "code",
   "execution_count": 1,
   "id": "c084fe64",
   "metadata": {},
   "outputs": [],
   "source": [
    "try:\n",
    "    import franken\n",
    "except ImportError:\n",
    "    %pip install franken[mace]\n",
    "    import franken"
   ]
  },
  {
   "cell_type": "code",
   "execution_count": 9,
   "id": "1e1cb313",
   "metadata": {},
   "outputs": [],
   "source": [
    "from pathlib import Path\n",
    "import sys\n",
    "import torch\n",
    "import numpy as np\n",
    "import matplotlib.pyplot as plt\n",
    "import ase\n",
    "import ase.md\n",
    "import ase.md.velocitydistribution\n",
    "from ase.geometry.rdf import get_recommended_r_max, get_rdf\n",
    "\n",
    "from franken.calculators.ase_calc import FrankenCalculator\n",
    "from franken.datasets.registry import DATASET_REGISTRY\n",
    "from franken.backbones.utils import CacheDir\n",
    "from franken.autotune import autotune\n",
    "from franken.config import (\n",
    "    MaceBackboneConfig,\n",
    "    MultiscaleGaussianRFConfig,\n",
    "    DatasetConfig,\n",
    "    SolverConfig,\n",
    "    HPSearchConfig,\n",
    "    AutotuneConfig,\n",
    ")"
   ]
  },
  {
   "cell_type": "code",
   "execution_count": 3,
   "id": "d4f07990-4d82-4bd3-b854-512622eaa311",
   "metadata": {},
   "outputs": [],
   "source": [
    "import os\n",
    "os.environ[\"FRANKEN_CACHE_DIR\"] = \"/leonardo_scratch/fast/IIT24_AtomSim/franken/franken_cache\""
   ]
  },
  {
   "cell_type": "markdown",
   "id": "c0686fcd",
   "metadata": {},
   "source": [
    "## Run autotune to train a franken model\n",
    "The first step is to obtain a trained franken model, with which to perform the MD.\n",
    "\n",
    "We do this using the `autotune` interface, for which [a dedicated tutorial](./autotune.ipynb) is available."
   ]
  },
  {
   "cell_type": "code",
   "execution_count": 5,
   "id": "c6ed6f6e",
   "metadata": {},
   "outputs": [],
   "source": [
    "gnn_config = MaceBackboneConfig(\n",
    "    path_or_id=\"MACE-L0\",\n",
    "    interaction_block=2,\n",
    ")\n",
    "dataset_cfg = DatasetConfig(name=\"water\", max_train_samples=8)\n",
    "rf_config = MultiscaleGaussianRFConfig(\n",
    "    num_random_features=512,\n",
    "    length_scale_low=10,\n",
    "    length_scale_high=30,\n",
    "    length_scale_num=4,\n",
    "    rng_seed=42,  # for reproducibility\n",
    ")\n",
    "solver_cfg = SolverConfig(\n",
    "    l2_penalty=HPSearchConfig(start=-10, stop=-5, num=5, scale='log'),  # equivalent of numpy.logspace\n",
    "    force_weight=HPSearchConfig(start=0.01, stop=0.99, num=5, scale='linear'),  # equivalent of numpy.linspace\n",
    ")\n",
    "autotune_cfg = AutotuneConfig(\n",
    "    dataset=dataset_cfg,\n",
    "    solver=solver_cfg,\n",
    "    backbone=gnn_config,\n",
    "    rfs=rf_config,\n",
    "    seed=42,\n",
    "    jac_chunk_size=64,\n",
    "    run_dir=\"./results\",\n",
    ")"
   ]
  },
  {
   "cell_type": "code",
   "execution_count": 6,
   "id": "774a847b",
   "metadata": {
    "scrolled": true
   },
   "outputs": [
    {
     "name": "stdout",
     "output_type": "stream",
     "text": [
      "console_logging_level: INFO\n",
      "dtype: float64\n",
      "jac_chunk_size: 64\n",
      "rf_normalization: leading_eig\n",
      "run_dir: ./results\n",
      "save_every_model: False\n",
      "save_fmaps: False\n",
      "scale_by_species: True\n",
      "seed: 42\n",
      "backbone:\n",
      "    family: mace\n",
      "    interaction_block: 2\n",
      "    path_or_id: MACE-L0\n",
      "dataset:\n",
      "    max_train_samples: 8\n",
      "    name: water\n",
      "    test_path: null\n",
      "    train_path: null\n",
      "    val_path: null\n",
      "rfs:\n",
      "    length_scale_high: 30\n",
      "    length_scale_low: 10\n",
      "    length_scale_num: 4\n",
      "    num_random_features: 512\n",
      "    rf_type: multiscale-gaussian\n",
      "    rng_seed: 42\n",
      "    use_offset: true\n",
      "solver:\n",
      "    force_weight:\n",
      "      num: 5\n",
      "      scale: linear\n",
      "      start: 0.01\n",
      "      stop: 0.99\n",
      "      value: null\n",
      "      values: null\n",
      "    l2_penalty:\n",
      "      num: 5\n",
      "      scale: log\n",
      "      start: -10\n",
      "      stop: -5\n",
      "      value: null\n",
      "      values: null\n",
      "\n",
      "2025-04-29 13:05:57.596 INFO (rank 0): Initializing cache directory from $FRANKEN_CACHE_DIR /leonardo_scratch/fast/IIT24_AtomSim/franken/franken_cache\n",
      "2025-04-29 13:05:57.696 INFO (rank 0): Run folder: results/run_250429_130557_c3537279\n"
     ]
    },
    {
     "data": {
      "application/vnd.jupyter.widget-view+json": {
       "model_id": "140797a82d434c6492be043aa5046c58",
       "version_major": 2,
       "version_minor": 0
      },
      "text/plain": [
       "ASE -> MACE (train):   0%|          | 0/8 [00:00<?, ?it/s]"
      ]
     },
     "metadata": {},
     "output_type": "display_data"
    },
    {
     "data": {
      "application/vnd.jupyter.widget-view+json": {
       "model_id": "282a300cd1f142b3ad00f00854e2aea6",
       "version_major": 2,
       "version_minor": 0
      },
      "text/plain": [
       "ASE -> MACE (val):   0%|          | 0/189 [00:00<?, ?it/s]"
      ]
     },
     "metadata": {},
     "output_type": "display_data"
    },
    {
     "data": {
      "application/vnd.jupyter.widget-view+json": {
       "model_id": "4627cadfbcb841ee941595159234b3df",
       "version_major": 2,
       "version_minor": 0
      },
      "text/plain": [
       "Computing dataset statistics:   0%|          | 0/8 [00:00<?, ?it/s]"
      ]
     },
     "metadata": {},
     "output_type": "display_data"
    },
    {
     "name": "stdout",
     "output_type": "stream",
     "text": [
      "2025-04-29 13:06:26.852 WARNING (rank 0): `leading_eig` normalization has high memory usage. If you encounter OOM errors try to disable it.\n",
      "2025-04-29 13:07:02.005 INFO (rank 0): Trial   1 | rf_type: multiscale-gaussian | num_random_features:   512   | length_scale_low:   10    | length_scale_high:   30    | length_scale_num:    4    | use_offset:  True   | rng_seed:   42    | Best trial 1 (energy 0.31 meV/atom - forces 25.0 meV/Ang)\n"
     ]
    }
   ],
   "source": [
    "run_path = autotune(autotune_cfg)"
   ]
  },
  {
   "cell_type": "markdown",
   "id": "b481cd18",
   "metadata": {},
   "source": [
    "## Run molecular dynamics\n",
    "\n",
    "Next we can run the molecular dynamics simulation.\n",
    "\n",
    "Most of the code below is boiler-plate for the simulation "
   ]
  },
  {
   "cell_type": "markdown",
   "id": "422300ba",
   "metadata": {},
   "source": [
    "We start by defining some parameters of the molecular dynamics:\n",
    " - The MD length (in nanoseconds)\n",
    " - The timestep (in femtoseconds)\n",
    " - The simulation temperature (in kelvin)\n",
    " - Friction of the Langevin integrator (in units 1/fs)"
   ]
  },
  {
   "cell_type": "code",
   "execution_count": 26,
   "id": "1028b2f8",
   "metadata": {},
   "outputs": [],
   "source": [
    "md_length_ns = 0.01\n",
    "timestep_fs = 0.5\n",
    "temperature_K = 325\n",
    "friction = 0.01\n",
    "device = \"cuda:0\" if torch.cuda.is_available() else \"cpu\""
   ]
  },
  {
   "cell_type": "markdown",
   "id": "eb26a173",
   "metadata": {},
   "source": [
    "Load the initial configuration: a random one taken from the water training set"
   ]
  },
  {
   "cell_type": "code",
   "execution_count": 27,
   "id": "ebce0242",
   "metadata": {},
   "outputs": [],
   "source": [
    "data_path = DATASET_REGISTRY.get_path(\"water\", \"train\", CacheDir.get())\n",
    "initial_configuration = ase.io.read(data_path, index=567)"
   ]
  },
  {
   "cell_type": "markdown",
   "id": "752adf0b",
   "metadata": {},
   "source": [
    "Initialize the `trajectory` object. It will be used to save the outputs of the MD."
   ]
  },
  {
   "cell_type": "code",
   "execution_count": 28,
   "id": "bd9d066c",
   "metadata": {},
   "outputs": [],
   "source": [
    "md_path = run_path / \"md\"\n",
    "md_path.mkdir(exist_ok=True)\n",
    "# Trajectory will contain the output data\n",
    "trajectory_path = md_path / f\"md_output.traj\"\n",
    "trajectory = ase.io.Trajectory(trajectory_path, \"w\", initial_configuration)"
   ]
  },
  {
   "cell_type": "markdown",
   "id": "85ad37fd",
   "metadata": {},
   "source": [
    "Initialize the calculator object which wraps the `franken` model we have learned previously."
   ]
  },
  {
   "cell_type": "code",
   "execution_count": 29,
   "id": "1410705b",
   "metadata": {},
   "outputs": [],
   "source": [
    "model_path = run_path / \"best_ckpt.pt\"\n",
    "calc = FrankenCalculator(model_path, device=device)\n",
    "initial_configuration.calc = calc"
   ]
  },
  {
   "cell_type": "markdown",
   "id": "adc60449",
   "metadata": {},
   "source": [
    "Initialize ASE-specific MD-related objects: \n",
    " - the velocity initialization\n",
    " - the Langevin integrator \n",
    " - and a logger to record results."
   ]
  },
  {
   "cell_type": "code",
   "execution_count": 30,
   "id": "ddbcc9c6",
   "metadata": {},
   "outputs": [
    {
     "name": "stdout",
     "output_type": "stream",
     "text": [
      "Time[ps]      Etot[eV]     Epot[eV]     Ekin[eV]    T[K]\n"
     ]
    }
   ],
   "source": [
    "ase.md.velocitydistribution.MaxwellBoltzmannDistribution(\n",
    "    atoms=initial_configuration,\n",
    "    temperature_K=temperature_K\n",
    ")\n",
    "integrator = ase.md.Langevin(\n",
    "    atoms=initial_configuration,\n",
    "    temperature_K=temperature_K,\n",
    "    friction=friction / ase.units.fs,\n",
    "    timestep=timestep_fs * ase.units.fs\n",
    ")\n",
    "md_logger = ase.md.MDLogger(\n",
    "    integrator,\n",
    "    initial_configuration,\n",
    "    sys.stdout,  # log directly to console\n",
    "    header=True,\n",
    "    stress=False,\n",
    "    peratom=False,\n",
    ")\n",
    "integrator.attach(md_logger, interval=100)\n",
    "integrator.attach(trajectory.write, interval=100)"
   ]
  },
  {
   "cell_type": "markdown",
   "id": "96a04003",
   "metadata": {},
   "source": [
    "Finally run the MD for the desired number of time-steps"
   ]
  },
  {
   "cell_type": "code",
   "execution_count": 31,
   "id": "f070a7f9",
   "metadata": {
    "scrolled": true
   },
   "outputs": [
    {
     "name": "stdout",
     "output_type": "stream",
     "text": [
      "0.0000         -916.283     -923.373        7.090   290.2\n",
      "0.0500         -916.521     -923.713        7.192   294.4\n",
      "0.1000         -915.770     -923.171        7.401   303.0\n",
      "0.1500         -914.560     -923.485        8.925   365.3\n",
      "0.2000         -914.554     -923.599        9.045   370.2\n",
      "0.2500         -915.718     -923.643        7.924   324.4\n",
      "0.3000         -915.394     -923.530        8.136   333.0\n",
      "0.3500         -915.741     -923.415        7.674   314.1\n",
      "0.4000         -916.037     -923.774        7.737   316.7\n",
      "0.4500         -915.613     -923.570        7.957   325.7\n",
      "0.5000         -915.735     -923.854        8.119   332.3\n",
      "0.5500         -915.778     -923.393        7.615   311.7\n",
      "0.6000         -915.919     -923.114        7.194   294.5\n",
      "0.6500         -916.155     -924.523        8.368   342.5\n",
      "0.7000         -916.692     -924.750        8.058   329.8\n",
      "0.7500         -916.834     -924.706        7.871   322.2\n",
      "0.8000         -916.360     -925.099        8.739   357.7\n",
      "0.8500         -916.675     -923.708        7.033   287.9\n",
      "0.9000         -916.333     -924.537        8.204   335.8\n",
      "0.9500         -916.729     -923.747        7.018   287.3\n",
      "1.0000         -916.630     -924.230        7.600   311.1\n",
      "1.0500         -916.626     -924.236        7.609   311.5\n",
      "1.1000         -916.256     -923.507        7.252   296.8\n",
      "1.1500         -915.947     -923.367        7.420   303.7\n",
      "1.2000         -915.565     -923.515        7.950   325.4\n",
      "1.2500         -915.817     -923.535        7.717   315.9\n",
      "1.3000         -915.732     -923.875        8.143   333.3\n",
      "1.3500         -915.216     -922.955        7.739   316.8\n",
      "1.4000         -915.284     -922.947        7.663   313.7\n",
      "1.4500         -914.413     -922.481        8.068   330.2\n",
      "1.5000         -915.057     -922.660        7.603   311.2\n",
      "1.5500         -915.427     -922.948        7.521   307.8\n",
      "1.6000         -913.944     -922.746        8.803   360.3\n",
      "1.6500         -914.430     -922.442        8.013   328.0\n",
      "1.7000         -914.228     -922.347        8.119   332.3\n",
      "1.7500         -913.744     -922.669        8.925   365.3\n",
      "1.8000         -914.516     -923.086        8.570   350.8\n",
      "1.8500         -915.572     -923.861        8.289   339.3\n",
      "1.9000         -915.543     -923.857        8.314   340.3\n",
      "1.9500         -915.050     -923.201        8.152   333.7\n",
      "2.0000         -914.168     -922.417        8.249   337.6\n",
      "2.0500         -914.972     -922.732        7.760   317.6\n",
      "2.1000         -915.061     -923.235        8.174   334.6\n",
      "2.1500         -915.451     -923.759        8.308   340.1\n",
      "2.2000         -915.908     -923.684        7.776   318.3\n",
      "2.2500         -915.107     -922.746        7.639   312.7\n",
      "2.3000         -914.788     -922.595        7.807   319.5\n",
      "2.3500         -914.412     -922.687        8.275   338.7\n",
      "2.4000         -914.521     -922.461        7.940   325.0\n",
      "2.4500         -914.538     -922.007        7.470   305.8\n",
      "2.5000         -914.496     -922.884        8.388   343.3\n",
      "2.5500         -914.198     -922.354        8.156   333.9\n",
      "2.6000         -915.218     -923.319        8.101   331.6\n",
      "2.6500         -915.677     -923.214        7.537   308.5\n",
      "2.7000         -914.302     -922.945        8.643   353.8\n",
      "2.7500         -914.357     -922.094        7.737   316.7\n",
      "2.8000         -913.831     -921.864        8.033   328.8\n",
      "2.8500         -913.068     -921.720        8.652   354.2\n",
      "2.9000         -913.310     -921.669        8.358   342.1\n",
      "2.9500         -913.886     -922.243        8.358   342.1\n",
      "3.0000         -914.377     -922.127        7.749   317.2\n",
      "3.0500         -914.771     -922.360        7.589   310.6\n",
      "3.1000         -914.834     -922.550        7.716   315.8\n",
      "3.1500         -915.040     -922.736        7.696   315.0\n",
      "3.2000         -914.634     -922.734        8.100   331.6\n",
      "3.2500         -913.839     -922.642        8.802   360.3\n",
      "3.3000         -913.827     -922.098        8.271   338.6\n",
      "3.3500         -913.594     -921.665        8.071   330.4\n",
      "3.4000         -914.375     -922.834        8.459   346.3\n",
      "3.4500         -913.786     -921.806        8.020   328.3\n",
      "3.5000         -914.275     -922.415        8.140   333.2\n",
      "3.5500         -915.140     -922.755        7.615   311.7\n",
      "3.6000         -915.055     -922.152        7.098   290.5\n",
      "3.6500         -914.674     -922.822        8.149   333.6\n",
      "3.7000         -914.621     -922.570        7.949   325.4\n",
      "3.7500         -914.795     -922.185        7.391   302.5\n",
      "3.8000         -913.282     -922.055        8.772   359.1\n",
      "3.8500         -913.467     -921.149        7.682   314.5\n",
      "3.9000         -913.941     -922.172        8.231   336.9\n",
      "3.9500         -914.035     -921.929        7.893   323.1\n",
      "4.0000         -914.776     -922.232        7.456   305.2\n",
      "4.0500         -915.341     -922.631        7.290   298.4\n",
      "4.1000         -915.503     -923.031        7.528   308.2\n",
      "4.1500         -915.562     -923.342        7.780   318.4\n",
      "4.2000         -915.286     -923.020        7.734   316.6\n",
      "4.2500         -914.426     -922.399        7.974   326.4\n",
      "4.3000         -913.654     -921.986        8.332   341.1\n",
      "4.3500         -913.295     -922.221        8.926   365.4\n",
      "4.4000         -914.250     -922.146        7.895   323.2\n",
      "4.4500         -913.960     -922.547        8.588   351.5\n",
      "4.5000         -914.756     -922.300        7.544   308.8\n",
      "4.5500         -914.478     -922.770        8.292   339.4\n",
      "4.6000         -914.708     -923.159        8.451   345.9\n",
      "4.6500         -914.722     -922.838        8.116   332.2\n",
      "4.7000         -914.610     -922.676        8.066   330.1\n",
      "4.7500         -914.734     -923.235        8.501   348.0\n",
      "4.8000         -913.700     -922.335        8.635   353.4\n",
      "4.8500         -914.237     -922.593        8.357   342.1\n",
      "4.9000         -915.009     -922.830        7.822   320.2\n",
      "4.9500         -916.104     -924.148        8.044   329.3\n",
      "5.0000         -916.193     -923.952        7.760   317.6\n",
      "5.0500         -916.050     -924.278        8.228   336.8\n",
      "5.1000         -915.241     -922.877        7.636   312.6\n",
      "5.1500         -915.198     -923.097        7.899   323.3\n",
      "5.2000         -914.677     -923.479        8.802   360.3\n",
      "5.2500         -915.436     -923.323        7.886   322.8\n",
      "5.3000         -916.716     -923.728        7.012   287.0\n",
      "5.3500         -916.409     -923.808        7.399   302.8\n",
      "5.4000         -915.548     -922.940        7.392   302.6\n",
      "5.4500         -914.955     -922.150        7.195   294.5\n",
      "5.5000         -914.952     -922.611        7.659   313.5\n",
      "5.5500         -915.030     -922.746        7.716   315.8\n",
      "5.6000         -915.165     -922.380        7.215   295.3\n",
      "5.6500         -915.009     -922.424        7.415   303.5\n",
      "5.7000         -914.750     -923.096        8.345   341.6\n",
      "5.7500         -914.542     -922.894        8.352   341.9\n",
      "5.8000         -914.998     -922.199        7.202   294.8\n",
      "5.8500         -915.053     -922.320        7.266   297.4\n",
      "5.9000         -914.908     -922.932        8.023   328.4\n",
      "5.9500         -915.372     -923.748        8.376   342.8\n",
      "6.0000         -915.224     -923.084        7.860   321.7\n",
      "6.0500         -915.456     -923.414        7.958   325.8\n",
      "6.1000         -915.067     -922.803        7.735   316.6\n",
      "6.1500         -915.697     -923.546        7.849   321.3\n",
      "6.2000         -914.912     -923.468        8.556   350.2\n",
      "6.2500         -915.929     -923.285        7.355   301.1\n",
      "6.3000         -915.512     -923.694        8.182   334.9\n",
      "6.3500         -914.543     -922.949        8.406   344.1\n",
      "6.4000         -914.977     -923.140        8.163   334.1\n",
      "6.4500         -915.651     -923.551        7.900   323.4\n",
      "6.5000         -914.906     -922.955        8.049   329.5\n",
      "6.5500         -915.047     -922.789        7.742   316.9\n",
      "6.6000         -914.364     -922.407        8.043   329.2\n",
      "6.6500         -914.813     -922.786        7.973   326.4\n",
      "6.7000         -915.120     -923.025        7.905   323.6\n",
      "6.7500         -915.643     -923.375        7.732   316.5\n",
      "6.8000         -915.610     -923.887        8.277   338.8\n",
      "6.8500         -915.813     -923.888        8.075   330.5\n",
      "6.9000         -914.788     -922.721        7.933   324.7\n",
      "6.9500         -914.767     -922.447        7.680   314.4\n",
      "7.0000         -913.575     -922.703        9.129   373.7\n",
      "7.0500         -914.186     -922.155        7.969   326.2\n",
      "7.1000         -913.816     -922.943        9.126   373.6\n",
      "7.1500         -914.617     -922.267        7.650   313.1\n",
      "7.2000         -915.376     -922.985        7.610   311.5\n",
      "7.2500         -915.929     -923.792        7.862   321.8\n",
      "7.3000         -915.392     -923.032        7.640   312.7\n",
      "7.3500         -914.646     -922.367        7.721   316.1\n",
      "7.4000         -914.068     -922.492        8.424   344.8\n",
      "7.4500         -914.572     -922.601        8.029   328.7\n",
      "7.5000         -914.721     -922.535        7.813   319.8\n",
      "7.5500         -915.054     -922.679        7.625   312.1\n",
      "7.6000         -915.809     -923.811        8.001   327.5\n",
      "7.6500         -915.186     -923.458        8.272   338.6\n",
      "7.7000         -914.451     -923.095        8.644   353.8\n",
      "7.7500         -915.372     -922.935        7.563   309.6\n",
      "7.8000         -915.911     -923.412        7.501   307.0\n",
      "7.8500         -915.723     -923.278        7.554   309.2\n",
      "7.9000         -915.867     -922.984        7.117   291.3\n",
      "7.9500         -914.777     -922.532        7.755   317.4\n",
      "8.0000         -914.829     -923.051        8.222   336.5\n",
      "8.0500         -914.737     -922.989        8.252   337.8\n",
      "8.1000         -915.299     -922.415        7.116   291.3\n",
      "8.1500         -914.876     -922.790        7.913   323.9\n",
      "8.2000         -915.419     -923.243        7.824   320.3\n",
      "8.2500         -915.297     -923.003        7.706   315.4\n",
      "8.3000         -914.859     -923.018        8.159   334.0\n",
      "8.3500         -914.847     -922.243        7.396   302.7\n",
      "8.4000         -914.897     -923.696        8.799   360.2\n",
      "8.4500         -915.468     -923.297        7.829   320.5\n",
      "8.5000         -916.089     -923.654        7.565   309.6\n",
      "8.5500         -916.068     -923.525        7.457   305.3\n",
      "8.6000         -915.644     -922.987        7.342   300.5\n",
      "8.6500         -915.213     -923.245        8.032   328.8\n",
      "8.7000         -915.124     -922.929        7.804   319.5\n",
      "8.7500         -915.456     -923.930        8.474   346.8\n",
      "8.8000         -914.738     -923.125        8.387   343.3\n",
      "8.8500         -915.086     -922.410        7.324   299.8\n",
      "8.9000         -914.502     -922.504        8.002   327.6\n",
      "8.9500         -913.614     -922.013        8.399   343.8\n",
      "9.0000         -914.058     -922.575        8.517   348.6\n",
      "9.0500         -914.975     -923.433        8.458   346.2\n",
      "9.1000         -915.989     -923.271        7.283   298.1\n",
      "9.1500         -914.819     -923.219        8.400   343.8\n",
      "9.2000         -914.340     -922.992        8.652   354.2\n",
      "9.2500         -914.894     -922.673        7.779   318.4\n",
      "9.3000         -914.772     -923.284        8.512   348.4\n",
      "9.3500         -914.877     -923.249        8.372   342.7\n",
      "9.4000         -914.510     -922.653        8.143   333.3\n",
      "9.4500         -914.275     -922.212        7.937   324.9\n",
      "9.5000         -914.145     -922.141        7.996   327.3\n",
      "9.5500         -913.376     -921.399        8.023   328.4\n",
      "9.6000         -913.353     -921.140        7.787   318.7\n",
      "9.6500         -914.173     -922.198        8.025   328.5\n",
      "9.7000         -914.693     -921.771        7.078   289.7\n",
      "9.7500         -913.676     -922.602        8.927   365.4\n",
      "9.8000         -913.391     -922.679        9.288   380.2\n",
      "9.8500         -914.240     -923.297        9.056   370.7\n",
      "9.9000         -914.777     -923.303        8.526   349.0\n",
      "9.9500         -915.703     -923.847        8.144   333.4\n",
      "10.0000        -915.097     -923.712        8.615   352.6\n"
     ]
    },
    {
     "data": {
      "text/plain": [
       "True"
      ]
     },
     "execution_count": 31,
     "metadata": {},
     "output_type": "execute_result"
    }
   ],
   "source": [
    "integrator.run(md_length_ns * 1e6 / timestep_fs)"
   ]
  },
  {
   "cell_type": "markdown",
   "id": "d27d286b",
   "metadata": {},
   "source": [
    "### Analyse MD results\n",
    "\n",
    "The trajectory can be loaded with ASE, we can then plot the radial-distribution function of the simulation."
   ]
  },
  {
   "cell_type": "code",
   "execution_count": 35,
   "id": "b34dc483",
   "metadata": {},
   "outputs": [
    {
     "name": "stdout",
     "output_type": "stream",
     "text": [
      "Loaded MD trajectory of length 200\n"
     ]
    }
   ],
   "source": [
    "traj = ase.io.read(trajectory_path, index=\":\")\n",
    "# Skip first time-step which is just the initial configuration\n",
    "traj = traj[1:]\n",
    "print(f\"Loaded MD trajectory of length {len(traj)}\")"
   ]
  },
  {
   "cell_type": "markdown",
   "id": "8fae91c6",
   "metadata": {},
   "source": [
    "We compute the RDF of the O-O atoms within the trajectory, and then compute the average and plot it.\n",
    "We're using ASE's `get_rdf` for the actual distance calculations.\n",
    "The trajectory is very short, so the RDF is very noisy, but by increasing the simulation time it's easy to get a clean curve."
   ]
  },
  {
   "cell_type": "code",
   "execution_count": 36,
   "id": "9511f0dc",
   "metadata": {},
   "outputs": [],
   "source": [
    "equilibration_fs = 0.5 * 100  # deliberately short\n",
    "nbins_per_angstrom = 50\n",
    "\n",
    "# Skip the beginning of the trajectory where simulation is not at equilibrium\n",
    "traj_len_fs = timestep_fs * len(traj)\n",
    "# equilibration time / 100 (sampling interval)\n",
    "traj_eq = traj[int(equilibration_fs / timestep_fs / 100) :]\n",
    "\n",
    "rmax = 6.3\n",
    "nbins = int(rmax * nbins_per_angstrom)\n",
    "\n",
    "element_pair = (8, 8)  # O-O distances\n",
    "\n",
    "# Compute the average RDF\n",
    "rdf_list = []\n",
    "for i, atoms in enumerate(traj_eq):\n",
    "    rdf, radii = get_rdf(\n",
    "        atoms,\n",
    "        rmax,\n",
    "        nbins,\n",
    "        no_dists=False,\n",
    "        elements=element_pair,\n",
    "    )\n",
    "    rdf_list.append(rdf)\n",
    "avg_rdf = np.mean(rdf_list, axis=0)"
   ]
  },
  {
   "cell_type": "code",
   "execution_count": 37,
   "id": "ce719dba",
   "metadata": {},
   "outputs": [
    {
     "data": {
      "text/plain": [
       "(1.5, 6.3)"
      ]
     },
     "execution_count": 37,
     "metadata": {},
     "output_type": "execute_result"
    },
    {
     "data": {
      "image/png": "[encoded data removed]",
      "text/plain": [
       "<Figure size 640x480 with 1 Axes>"
      ]
     },
     "metadata": {},
     "output_type": "display_data"
    }
   ],
   "source": [
    "fig, ax = plt.subplots()\n",
    "ax.plot(radii, avg_rdf, lw=3)\n",
    "ax.set_xlabel(\"Radius (A)\")\n",
    "ax.set_ylabel(\"g(r)\")\n",
    "ax.set_title(f\"O-O RDF of water at {temperature_K}K\")\n",
    "ax.set_xlim([1.5, rmax])"
   ]
  }
 ],
 "metadata": {
  "kernelspec": {
   "display_name": "Python 3 (ipykernel)",
   "language": "python",
   "name": "python3"
  },
  "language_info": {
   "codemirror_mode": {
    "name": "ipython",
    "version": 3
   },
   "file_extension": ".py",
   "mimetype": "text/x-python",
   "name": "python",
   "nbconvert_exporter": "python",
   "pygments_lexer": "ipython3",
   "version": "3.10.14"
  },
  "widgets": {
   "application/vnd.jupyter.widget-state+json": {
    "state": {
     "140797a82d434c6492be043aa5046c58": {
      "model_module": "@jupyter-widgets/controls",
      "model_module_version": "2.0.0",
      "model_name": "HBoxModel",
      "state": {
       "children": [
        "IPY_MODEL_abbef0f7ddc84d71b900132d4909e2bf",
        "IPY_MODEL_fc147ed6d56a41158cc2f4940be54972",
        "IPY_MODEL_d9293a91142a4f60afd028b67f21c7db"
       ],
       "layout": "IPY_MODEL_b619be76005d4b74a56076ad0683f44e"
      }
     },
     "1ce4b27aa40c4700b385035b28825a15": {
      "model_module": "@jupyter-widgets/controls",
      "model_module_version": "2.0.0",
      "model_name": "FloatProgressModel",
      "state": {
       "bar_style": "success",
       "layout": "IPY_MODEL_8f8e01b52cd84d31b0185f3ab2effceb",
       "max": 189,
       "style": "IPY_MODEL_d0654c9a892c47488b465a1ec4738810",
       "value": 189
      }
     },
     "267878e77c6f4dc98f193266fedd39a0": {
      "model_module": "@jupyter-widgets/controls",
      "model_module_version": "2.0.0",
      "model_name": "HTMLModel",
      "state": {
       "layout": "IPY_MODEL_ebc750125fe040bd9e79eaec9e853946",
       "style": "IPY_MODEL_e3b55b07f8fd42a4a86ff7e54bb1b852",
       "value": " 189/189 [00:00&lt;00:00, 217.88it/s]"
      }
     },
     "282a300cd1f142b3ad00f00854e2aea6": {
      "model_module": "@jupyter-widgets/controls",
      "model_module_version": "2.0.0",
      "model_name": "HBoxModel",
      "state": {
       "children": [
        "IPY_MODEL_8e6d088a57ef48ac9d0a6e05fb12c6b3",
        "IPY_MODEL_1ce4b27aa40c4700b385035b28825a15",
        "IPY_MODEL_267878e77c6f4dc98f193266fedd39a0"
       ],
       "layout": "IPY_MODEL_4cf2b0f9e36b46398dde2bf816e99f32"
      }
     },
     "28dc4854be724d368cc1c006a2a27fb6": {
      "model_module": "@jupyter-widgets/controls",
      "model_module_version": "2.0.0",
      "model_name": "HTMLStyleModel",
      "state": {
       "description_width": "",
       "font_size": null,
       "text_color": null
      }
     },
     "398ed8e7b3e14ddcb889e988cf5451b2": {
      "model_module": "@jupyter-widgets/controls",
      "model_module_version": "2.0.0",
      "model_name": "HTMLStyleModel",
      "state": {
       "description_width": "",
       "font_size": null,
       "text_color": null
      }
     },
     "3bfa4b1cc6234b7e93e4b641ce6482f2": {
      "model_module": "@jupyter-widgets/base",
      "model_module_version": "2.0.0",
      "model_name": "LayoutModel",
      "state": {}
     },
     "4627cadfbcb841ee941595159234b3df": {
      "model_module": "@jupyter-widgets/controls",
      "model_module_version": "2.0.0",
      "model_name": "HBoxModel",
      "state": {
       "children": [
        "IPY_MODEL_4d41960ec0064edba9b1e2d2d4e88234",
        "IPY_MODEL_eb8bddf8b9664e96982939f6caa7a862",
        "IPY_MODEL_6b5cb48f71a84ae290c60c0ff2263b13"
       ],
       "layout": "IPY_MODEL_4e271448653d4f3a80098c7d96e605eb"
      }
     },
     "4cf2b0f9e36b46398dde2bf816e99f32": {
      "model_module": "@jupyter-widgets/base",
      "model_module_version": "2.0.0",
      "model_name": "LayoutModel",
      "state": {}
     },
     "4d41960ec0064edba9b1e2d2d4e88234": {
      "model_module": "@jupyter-widgets/controls",
      "model_module_version": "2.0.0",
      "model_name": "HTMLModel",
      "state": {
       "layout": "IPY_MODEL_ddfefb396961459089d641351e65c35a",
       "style": "IPY_MODEL_398ed8e7b3e14ddcb889e988cf5451b2",
       "value": "Computing dataset statistics: 100%"
      }
     },
     "4e0ff131003e4145aa48abf37bdff8e2": {
      "model_module": "@jupyter-widgets/base",
      "model_module_version": "2.0.0",
      "model_name": "LayoutModel",
      "state": {}
     },
     "4e271448653d4f3a80098c7d96e605eb": {
      "model_module": "@jupyter-widgets/base",
      "model_module_version": "2.0.0",
      "model_name": "LayoutModel",
      "state": {}
     },
     "5e3628be1ead49cb983817e806bc2c36": {
      "model_module": "@jupyter-widgets/controls",
      "model_module_version": "2.0.0",
      "model_name": "HTMLStyleModel",
      "state": {
       "description_width": "",
       "font_size": null,
       "text_color": null
      }
     },
     "6b5cb48f71a84ae290c60c0ff2263b13": {
      "model_module": "@jupyter-widgets/controls",
      "model_module_version": "2.0.0",
      "model_name": "HTMLModel",
      "state": {
       "layout": "IPY_MODEL_c29c81e2d3064f82bd80d43dd2ef21ec",
       "style": "IPY_MODEL_28dc4854be724d368cc1c006a2a27fb6",
       "value": " 8/8 [00:57&lt;00:00,  2.46s/it]"
      }
     },
     "8e6d088a57ef48ac9d0a6e05fb12c6b3": {
      "model_module": "@jupyter-widgets/controls",
      "model_module_version": "2.0.0",
      "model_name": "HTMLModel",
      "state": {
       "layout": "IPY_MODEL_e12ec276ee034f4d9a364d4ffffbddb4",
       "style": "IPY_MODEL_dcb6a19ec0eb462783b8034f20ed801e",
       "value": "ASE -&gt; MACE (val): 100%"
      }
     },
     "8f8e01b52cd84d31b0185f3ab2effceb": {
      "model_module": "@jupyter-widgets/base",
      "model_module_version": "2.0.0",
      "model_name": "LayoutModel",
      "state": {}
     },
     "abbef0f7ddc84d71b900132d4909e2bf": {
      "model_module": "@jupyter-widgets/controls",
      "model_module_version": "2.0.0",
      "model_name": "HTMLModel",
      "state": {
       "layout": "IPY_MODEL_c1b72dfec14a49c68e91662c85e70a38",
       "style": "IPY_MODEL_dc8d8e5df2c0456dbcbb6440628ec7ec",
       "value": "ASE -&gt; MACE (train): 100%"
      }
     },
     "b619be76005d4b74a56076ad0683f44e": {
      "model_module": "@jupyter-widgets/base",
      "model_module_version": "2.0.0",
      "model_name": "LayoutModel",
      "state": {}
     },
     "c135d7d0451144c3b05833ff7b28cf9e": {
      "model_module": "@jupyter-widgets/controls",
      "model_module_version": "2.0.0",
      "model_name": "ProgressStyleModel",
      "state": {
       "description_width": ""
      }
     },
     "c1b72dfec14a49c68e91662c85e70a38": {
      "model_module": "@jupyter-widgets/base",
      "model_module_version": "2.0.0",
      "model_name": "LayoutModel",
      "state": {}
     },
     "c29c81e2d3064f82bd80d43dd2ef21ec": {
      "model_module": "@jupyter-widgets/base",
      "model_module_version": "2.0.0",
      "model_name": "LayoutModel",
      "state": {}
     },
     "d0654c9a892c47488b465a1ec4738810": {
      "model_module": "@jupyter-widgets/controls",
      "model_module_version": "2.0.0",
      "model_name": "ProgressStyleModel",
      "state": {
       "description_width": ""
      }
     },
     "d9293a91142a4f60afd028b67f21c7db": {
      "model_module": "@jupyter-widgets/controls",
      "model_module_version": "2.0.0",
      "model_name": "HTMLModel",
      "state": {
       "layout": "IPY_MODEL_f073ce0d7fa34ce3b86c96dd31578de4",
       "style": "IPY_MODEL_5e3628be1ead49cb983817e806bc2c36",
       "value": " 8/8 [00:00&lt;00:00, 64.45it/s]"
      }
     },
     "dc8d8e5df2c0456dbcbb6440628ec7ec": {
      "model_module": "@jupyter-widgets/controls",
      "model_module_version": "2.0.0",
      "model_name": "HTMLStyleModel",
      "state": {
       "description_width": "",
       "font_size": null,
       "text_color": null
      }
     },
     "dcb6a19ec0eb462783b8034f20ed801e": {
      "model_module": "@jupyter-widgets/controls",
      "model_module_version": "2.0.0",
      "model_name": "HTMLStyleModel",
      "state": {
       "description_width": "",
       "font_size": null,
       "text_color": null
      }
     },
     "dd30f5968d244bd7ada0aa15afcf6878": {
      "model_module": "@jupyter-widgets/controls",
      "model_module_version": "2.0.0",
      "model_name": "ProgressStyleModel",
      "state": {
       "description_width": ""
      }
     },
     "ddfefb396961459089d641351e65c35a": {
      "model_module": "@jupyter-widgets/base",
      "model_module_version": "2.0.0",
      "model_name": "LayoutModel",
      "state": {}
     },
     "e12ec276ee034f4d9a364d4ffffbddb4": {
      "model_module": "@jupyter-widgets/base",
      "model_module_version": "2.0.0",
      "model_name": "LayoutModel",
      "state": {}
     },
     "e3b55b07f8fd42a4a86ff7e54bb1b852": {
      "model_module": "@jupyter-widgets/controls",
      "model_module_version": "2.0.0",
      "model_name": "HTMLStyleModel",
      "state": {
       "description_width": "",
       "font_size": null,
       "text_color": null
      }
     },
     "eb8bddf8b9664e96982939f6caa7a862": {
      "model_module": "@jupyter-widgets/controls",
      "model_module_version": "2.0.0",
      "model_name": "FloatProgressModel",
      "state": {
       "bar_style": "success",
       "layout": "IPY_MODEL_3bfa4b1cc6234b7e93e4b641ce6482f2",
       "max": 8,
       "style": "IPY_MODEL_c135d7d0451144c3b05833ff7b28cf9e",
       "value": 8
      }
     },
     "ebc750125fe040bd9e79eaec9e853946": {
      "model_module": "@jupyter-widgets/base",
      "model_module_version": "2.0.0",
      "model_name": "LayoutModel",
      "state": {}
     },
     "f073ce0d7fa34ce3b86c96dd31578de4": {
      "model_module": "@jupyter-widgets/base",
      "model_module_version": "2.0.0",
      "model_name": "LayoutModel",
      "state": {}
     },
     "fc147ed6d56a41158cc2f4940be54972": {
      "model_module": "@jupyter-widgets/controls",
      "model_module_version": "2.0.0",
      "model_name": "FloatProgressModel",
      "state": {
       "bar_style": "success",
       "layout": "IPY_MODEL_4e0ff131003e4145aa48abf37bdff8e2",
       "max": 8,
       "style": "IPY_MODEL_dd30f5968d244bd7ada0aa15afcf6878",
       "value": 8
      }
     }
    },
    "version_major": 2,
    "version_minor": 0
   }
  }
 },
 "nbformat": 4,
 "nbformat_minor": 5
}
