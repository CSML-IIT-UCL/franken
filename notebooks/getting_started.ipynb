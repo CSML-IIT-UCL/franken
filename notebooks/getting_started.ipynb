{
 "cells": [
  {
   "cell_type": "markdown",
   "id": "7b00ed94",
   "metadata": {},
   "source": [
    "# Getting Started\n",
    "\n",
    "In this notebook we will explore the basic use-case of training and evaluating `franken` on a small dataset of DFT calculations.\n",
    "\n",
    "We use the H2O data obtained from DFT calculations (using RPBE+D3 theory), originally collected by [Montero de Hijes et al.](https://doi.org/10.1063/5.0197105).\n",
    "\n",
    "To showcase the sample efficiency of our model - and to fit within a small computational budget - we finetune the [MACE-MP0 foundation model](https://mace-docs.readthedocs.io/en/latest/guide/foundation_models.html) with only 8 new samples.\n",
    "\n",
    "Note that while the original, zero-shot MACE model has poor accuracy on this dataset (which is out-of-distribution with respect to the foundation model's training data), the finetuned `franken` model is very accurate at predicting energy and forces!\n",
    "\n",
    "This notebook is also available on [Google colab](https://colab.research.google.com/drive/1SJ10dpYmSIzArd-U2DZQUj-8iQue1_Zp?usp=sharing) for easy running."
   ]
  },
  {
   "cell_type": "code",
   "execution_count": null,
   "id": "c1977888-ceb1-40c9-8f29-1e589ab5eabf",
   "metadata": {},
   "outputs": [],
   "source": [
    "try:\n",
    "    import franken\n",
    "except ImportError:\n",
    "    %pip install franken[mace]\n",
    "    import franken"
   ]
  },
  {
   "cell_type": "code",
   "execution_count": 52,
   "id": "68183f71",
   "metadata": {},
   "outputs": [],
   "source": [
    "import torch\n",
    "import numpy as np\n",
    "import matplotlib.pyplot as plt\n",
    "from tqdm.auto import tqdm\n",
    "import ase.io\n",
    "\n",
    "import franken.metrics\n",
    "from franken.datasets.registry import DATASET_REGISTRY\n",
    "from franken.trainers.rf_cuda_lowmem import RandomFeaturesTrainer\n",
    "from franken.data.base import BaseAtomsDataset\n",
    "from franken.backbones.utils import CacheDir\n",
    "from franken.rf.model import FrankenPotential\n",
    "from franken.data.base import Target\n",
    "from franken.config import MaceBackboneConfig, MultiscaleGaussianRFConfig"
   ]
  },
  {
   "cell_type": "markdown",
   "id": "4ca5e5c1",
   "metadata": {},
   "source": [
    "### Load the data\n",
    "\n",
    "Here we load 8 random samples from the training set, and the validation set which contains 100 structures.\n",
    "\n",
    "The dataset will be downloaded into franken's cache directory (`CacheDir.get()`).\n",
    "\n",
    "\n",
    "> NOTE: The **cache directory** is used to store downloaded datasets and model backbones.\n",
    "> it defaults to `$HOME/.franken` for the current user and it can be configured by setting the `$FRANKEN_CACHE_DIR`\n",
    "> environment variable. For example, if you wish to override the default choice you could run\n",
    "> ```python\n",
    "> import os\n",
    "> os.environ[\"FRANKEN_CACHE_DIR\"] = \"/path/to/my/cache/franken-cache\"\n",
    "> ```"
   ]
  },
  {
   "cell_type": "markdown",
   "id": "d40318ed-38c3-46a3-85f0-4eef38612361",
   "metadata": {},
   "source": [
    "We need to configure the GNN backbone we wish to use since the data format depends on which backbone will be loaded.\n",
    "We will use the [**MACE MP0 small** backbone](https://github.com/ACEsuit/mace-foundations) (identified by its `MACE-L0` ID), with features extracted at the 2nd layer.\n",
    "\n",
    "The backbone will be downloaded as necessary into the cache directory."
   ]
  },
  {
   "cell_type": "code",
   "execution_count": 53,
   "id": "e5c8b8aa",
   "metadata": {},
   "outputs": [],
   "source": [
    "gnn_config = MaceBackboneConfig(\n",
    "    path_or_id=\"MACE-L0\",\n",
    "    interaction_block=2,\n",
    ")"
   ]
  },
  {
   "cell_type": "markdown",
   "id": "7b0c4be9-2bd9-41ec-8382-4ad7eec07a26",
   "metadata": {},
   "source": [
    "We use a dataset which is available in our dataset registry for simplicity.\n",
    "To use your own dataset, you can simply point the `data_path` argument to the file of your choice. The main restriction is that the file should be readable with the `ase.io.read` command.\n",
    "\n",
    "The `split` argument can be either \"train\", \"test\" or \"val\" and is mainly used to configure data normalization: normalizing constants are computed only on the training-set to avoid leakage from train to test data."
   ]
  },
  {
   "cell_type": "code",
   "execution_count": 54,
   "id": "653d26dd",
   "metadata": {},
   "outputs": [
    {
     "data": {
      "application/vnd.jupyter.widget-view+json": {
       "model_id": "e479ff705ea045c0a99032675dca31bf",
       "version_major": 2,
       "version_minor": 0
      },
      "text/plain": [
       "ASE -> MACE (train):   0%|          | 0/8 [00:00<?, ?it/s]"
      ]
     },
     "metadata": {},
     "output_type": "display_data"
    }
   ],
   "source": [
    "train_dset_8 = BaseAtomsDataset.from_path(\n",
    "    data_path=DATASET_REGISTRY.get_path(\"water\", \"train\", base_path=CacheDir.get()),\n",
    "    split=\"train\",\n",
    "    num_random_subsamples=8,\n",
    "    subsample_rng=42,\n",
    "    gnn_config=gnn_config,\n",
    ")\n",
    "train_dl_8 = train_dset_8.get_dataloader(distributed=False)"
   ]
  },
  {
   "cell_type": "code",
   "execution_count": 55,
   "id": "3a3380ed",
   "metadata": {},
   "outputs": [
    {
     "data": {
      "application/vnd.jupyter.widget-view+json": {
       "model_id": "b7e8b5ebecc44dfabf43a185384f8a37",
       "version_major": 2,
       "version_minor": 0
      },
      "text/plain": [
       "ASE -> MACE (val):   0%|          | 0/189 [00:00<?, ?it/s]"
      ]
     },
     "metadata": {},
     "output_type": "display_data"
    }
   ],
   "source": [
    "val_dset = BaseAtomsDataset.from_path(\n",
    "    data_path=DATASET_REGISTRY.get_path(\"water\", \"val\", base_path=CacheDir.get()),\n",
    "    split=\"val\",\n",
    "    gnn_config=gnn_config,\n",
    ")\n",
    "val_dl = val_dset.get_dataloader(distributed=False)"
   ]
  },
  {
   "cell_type": "markdown",
   "id": "74a8a32a",
   "metadata": {},
   "source": [
    "### Training a model\n",
    "\n",
    "We start in the most explicit setting where all the hyperparameters are set before-hand. Below we describe them one by one in detail."
   ]
  },
  {
   "cell_type": "markdown",
   "id": "e925f5f2",
   "metadata": {},
   "source": [
    "First we define **the kernel**, and its hyperparameters.\n",
    "Here we use the multiscale Gaussian kernel, which can fit a range of length-scales $\\sigma$ with a single model.\n",
    "This has the big advantage of requiring little tuning: a range of sensible values of $\\sigma$ can be set through the three parameters `\"length_scale_low\", \"length_scale_high\", \"length_scale_num\"`. This is much easier than precisely setting the optimal length0scale, and retains most of the accuracy.\n",
    "\n",
    "The other parameter is the number of random features, which can generally be set based on how much computing time and memory is available: more random features increase accuracy monotonically, although diminishing returns kick in after $\\approx 16000$ random features."
   ]
  },
  {
   "cell_type": "code",
   "execution_count": 56,
   "id": "fc9ee68f",
   "metadata": {},
   "outputs": [],
   "source": [
    "rf_config = MultiscaleGaussianRFConfig(\n",
    "    num_random_features=512,\n",
    "    length_scale_low=4.0,\n",
    "    length_scale_high=24.0,\n",
    "    length_scale_num=4,\n",
    "    rng_seed=42,  # for reproducibility\n",
    ")"
   ]
  },
  {
   "cell_type": "markdown",
   "id": "7f451a7e",
   "metadata": {},
   "source": [
    "The **linear system hyperparameters** are:\n",
    " - The L2 regularization weight (`\"l2_penalty\"`), which should be a small number and can be increased if numerical issues arise.\n",
    " - The weight of the forces compared to energies in the overall loss. If `\"force_weight\"` is closer to 1, the forces have more weight -- which is typically the desired configuration -- while when it is set closer to 0, the energies have more weight.\n",
    "\n",
    " It is generally very easy and fast to do a hyperparameter search on these parameters, but for the sake of simplicity here they are defined explicitly."
   ]
  },
  {
   "cell_type": "code",
   "execution_count": 57,
   "id": "1b5b7d53",
   "metadata": {},
   "outputs": [],
   "source": [
    "solver_params = {\n",
    "    \"l2_penalty\": [1e-5],\n",
    "    \"force_weight\": [0.8],\n",
    "}"
   ]
  },
  {
   "cell_type": "markdown",
   "id": "bca189a1",
   "metadata": {},
   "source": [
    "Instantiate classes for the model and for the training algorithm. Check the [documentation](https://franken.readthedocs.io/en/latest/) for a description of each argument."
   ]
  },
  {
   "cell_type": "code",
   "execution_count": 58,
   "id": "7e97022c",
   "metadata": {},
   "outputs": [],
   "source": [
    "device = \"cuda:0\" if torch.cuda.is_available() else \"cpu\"\n",
    "model = FrankenPotential(\n",
    "    gnn_config=gnn_config,\n",
    "    rf_config=rf_config,\n",
    "    num_species=2,        # H and O\n",
    "    jac_chunk_size=12,    # chosen to fit in the T4 GPU on colab. You can set it to \"auto\" to adapt to available GPU memory.\n",
    ")\n",
    "trainer = RandomFeaturesTrainer(\n",
    "    train_dataloader=train_dl_8,\n",
    "    save_every_model=False,\n",
    "    device=device,\n",
    "    save_fmaps=False,\n",
    ")"
   ]
  },
  {
   "cell_type": "markdown",
   "id": "d09b2dcb",
   "metadata": {},
   "source": [
    "Call the `fit` method to **train the model**. A separate model for all parameter possibilities in the `solver_params` dictionary is trained, but note that in this case a single solver-parameter has been specified."
   ]
  },
  {
   "cell_type": "code",
   "execution_count": 59,
   "id": "1a340721",
   "metadata": {},
   "outputs": [
    {
     "data": {
      "application/vnd.jupyter.widget-view+json": {
       "model_id": "9bfd2892e7fa4da3903d11296ccc1337",
       "version_major": 2,
       "version_minor": 0
      },
      "text/plain": [
       "Computing dataset statistics:   0%|          | 0/8 [00:00<?, ?it/s]"
      ]
     },
     "metadata": {},
     "output_type": "display_data"
    },
    {
     "name": "stderr",
     "output_type": "stream",
     "text": [
      "/leonardo/home/userexternal/gmeanti0/franken/franken/utils/linalg/cov.py:40: UserWarning: low-memory covariance updates cannot be used because `cupy` is not available. Install `cupy` if you encounter memory problems.\n",
      "  warnings.warn(\n",
      "/leonardo/home/userexternal/gmeanti0/franken/franken/utils/linalg/cov.py:127: UserWarning: low-memory covariance updates cannot be used because `cupy` is not available. Install `cupy` if you encounter memory problems.\n",
      "  warnings.warn(\n"
     ]
    },
    {
     "name": "stdout",
     "output_type": "stream",
     "text": [
      "    covs+coeffs      | 0.3 cfgs/s |  88% | 1 x NVIDIA A100-SXM-64GB"
     ]
    },
    {
     "name": "stderr",
     "output_type": "stream",
     "text": [
      "WARNING:franken:`leading_eig` normalization has high memory usage. If you encounter OOM errors try to disable it.\n"
     ]
    },
    {
     "name": "stdout",
     "output_type": "stream",
     "text": [
      "hp_val={'force_weight': 0.8, 'l2_penalty': 1e-05}IDIA A100-SXM-64GB\n",
      "   least-squares     | 852.0 models/s | 1 x NVIDIA A100-SXM-64GB"
     ]
    },
    {
     "name": "stderr",
     "output_type": "stream",
     "text": [
      "/leonardo/home/userexternal/gmeanti0/franken/franken/utils/linalg/psdsolve.py:42: UserWarning: low-memory solver cannot be used because `cupy` is not available. Install `cupy` if you encounter memory problems.\n",
      "  warnings.warn(\n"
     ]
    }
   ],
   "source": [
    "logs, weights = trainer.fit(model, solver_params)"
   ]
  },
  {
   "cell_type": "markdown",
   "id": "13758857",
   "metadata": {},
   "source": [
    "Run the model to get **predictions** on the whole validation set. We record simple metrics such as energy and force MAE.\n",
    "\n",
    "> NOTE: The **forces_mode** parameter can be set to either \"torch.func\" or \"torch.autograd\". The two have different performance characteristics: \"torch.func\" is more suitable when there are many different models being trained (i.e. many different solver hyperparameters) as it can effectively run these in a batch way. When only a few models are present, \"torch.autograd\" can be much faster. In our testing the cutoff between the two is approximately at 100 models, but this may vary greatly depending on hardware characteristics.\n",
    "\n",
    "> NOTE: predictions and metric tracking can also be done with the `trainer.evaluate` function."
   ]
  },
  {
   "cell_type": "code",
   "execution_count": 60,
   "id": "d61a9d80",
   "metadata": {},
   "outputs": [
    {
     "data": {
      "application/vnd.jupyter.widget-view+json": {
       "model_id": "8eac38967eb842e99ff712dfe2ea4b27",
       "version_major": 2,
       "version_minor": 0
      },
      "text/plain": [
       "Predicting energies and forces:   0%|          | 0/189 [00:00<?, ?it/s]"
      ]
     },
     "metadata": {},
     "output_type": "display_data"
    }
   ],
   "source": [
    "energy_mae = franken.metrics.init_metric(\"energy_MAE\", device=device)\n",
    "forces_mae = franken.metrics.init_metric(\"forces_MAE\", device=device)\n",
    "franken_predictions = []\n",
    "for atom_data, targets in tqdm(val_dl, desc=\"Predicting energies and forces\"):\n",
    "    # Move the data to the GPU\n",
    "    atom_data = atom_data.to(device=device)\n",
    "    targets = targets.to(device=device)\n",
    "    pred_e, pred_f = model.energy_and_forces(\n",
    "        atom_data,\n",
    "        weights=weights,\n",
    "        forces_mode=\"torch.autograd\",\n",
    "        add_energy_shift=True\n",
    "    )\n",
    "    predictions = Target(pred_e, pred_f)\n",
    "    energy_mae.update(predictions, targets)\n",
    "    forces_mae.update(predictions, targets)\n",
    "    franken_predictions.append(predictions.to(device=\"cpu\"))\n",
    "energy_mae = energy_mae.compute()\n",
    "forces_mae = forces_mae.compute()"
   ]
  },
  {
   "cell_type": "code",
   "execution_count": 61,
   "id": "90897499",
   "metadata": {},
   "outputs": [
    {
     "name": "stdout",
     "output_type": "stream",
     "text": [
      "Energy error = tensor([0.6200], device='cuda:0') eV/atom\n",
      "Forces error = tensor([29.6398], device='cuda:0') eV/Angstrom\n"
     ]
    }
   ],
   "source": [
    "print(f\"Energy error = {energy_mae} eV/atom\")\n",
    "print(f\"Forces error = {forces_mae} eV/Angstrom\")"
   ]
  },
  {
   "cell_type": "markdown",
   "id": "79aab9fc",
   "metadata": {},
   "source": [
    "### Compare against zero-shot MACE\n",
    "\n",
    "To show the magnitude of the improvement in accuracy, we evaluate the corresponding MACE\n",
    "model zero-shot (i.e. without fine-tuning) on the same water dataset."
   ]
  },
  {
   "cell_type": "code",
   "execution_count": 62,
   "id": "04928415",
   "metadata": {},
   "outputs": [],
   "source": [
    "from mace.calculators import mace_mp"
   ]
  },
  {
   "cell_type": "code",
   "execution_count": 63,
   "id": "f2ce2db6",
   "metadata": {},
   "outputs": [],
   "source": [
    "# We will use the MACE-L0 backbone, same as before.\n",
    "# The interaction block is not relevant for this experiment.\n",
    "gnn_config = MaceBackboneConfig(\n",
    "    path_or_id=\"MACE-L0\",\n",
    "    interaction_block=2,\n",
    ")"
   ]
  },
  {
   "cell_type": "code",
   "execution_count": 64,
   "id": "4b429620",
   "metadata": {},
   "outputs": [
    {
     "name": "stdout",
     "output_type": "stream",
     "text": [
      "Using float32 for MACECalculator, which is faster but less accurate. Recommended for MD. Use float64 for geometry optimization.\n",
      "Default dtype float32 does not match model dtype float64, converting models to float32.\n"
     ]
    },
    {
     "name": "stderr",
     "output_type": "stream",
     "text": [
      "/leonardo/home/userexternal/gmeanti0/micromamba/envs/franken-dev/lib/python3.10/site-packages/mace/calculators/mace.py:130: FutureWarning: You are using `torch.load` with `weights_only=False` (the current default value), which uses the default pickle module implicitly. It is possible to construct malicious pickle data which will execute arbitrary code during unpickling (See https://github.com/pytorch/pytorch/blob/main/SECURITY.md#untrusted-models for more details). In a future release, the default value for `weights_only` will be flipped to `True`. This limits the functions that could be executed during unpickling. Arbitrary objects will no longer be allowed to be loaded via this mode unless they are explicitly allowlisted by the user via `torch.serialization.add_safe_globals`. We recommend you start setting `weights_only=True` for any use case where you don't have full control of the loaded file. Please open an issue on GitHub for any issues related to this experimental feature.\n",
      "  torch.load(f=model_path, map_location=device)\n"
     ]
    }
   ],
   "source": [
    "from franken.backbones.utils import get_checkpoint_path\n",
    "\n",
    "device = \"cuda:0\" if torch.cuda.is_available() else \"cpu\"\n",
    "# get_checkpoint_path will download the checkpoint if it doesn't exist in the franken cache.\n",
    "macemp0_path = get_checkpoint_path(gnn_config.path_or_id)\n",
    "zeroshot_macemp = mace_mp(macemp0_path)"
   ]
  },
  {
   "cell_type": "code",
   "execution_count": 65,
   "id": "0bd869bc",
   "metadata": {},
   "outputs": [],
   "source": [
    "# For the data, we will use the ase Atoms object directly\n",
    "# since `zeroshot_macemp` is an ase Calculator object.\n",
    "ase_val_dset = ase.io.read(\n",
    "    DATASET_REGISTRY.get_path(\"water\", \"val\", base_path=CacheDir.get()),\n",
    "    index=\":\"\n",
    ")"
   ]
  },
  {
   "cell_type": "markdown",
   "id": "12c19db2",
   "metadata": {},
   "source": [
    "Model and dataset have been loaded, we only need to run the evaluation.\n",
    "\n",
    "Note that since the model is not calibrated to the potential energy of this system, the ground-truth and predicted energies will have a constant difference\n",
    "which influences error calculations.\n",
    "To fix this we compute the error up to the constant difference."
   ]
  },
  {
   "cell_type": "code",
   "execution_count": 66,
   "id": "302238f3",
   "metadata": {},
   "outputs": [
    {
     "data": {
      "application/vnd.jupyter.widget-view+json": {
       "model_id": "574f5080830d4afaa1745aff65fa2887",
       "version_major": 2,
       "version_minor": 0
      },
      "text/plain": [
       "Predicting energies and forces:   0%|          | 0/189 [00:00<?, ?it/s]"
      ]
     },
     "metadata": {},
     "output_type": "display_data"
    }
   ],
   "source": [
    "zeroshot_predictions = []\n",
    "for atom_data in tqdm(ase_val_dset, desc=\"Predicting energies and forces\"):\n",
    "    zeroshot_macemp.calculate(atoms=atom_data)\n",
    "    predictions = Target(\n",
    "        torch.tensor(zeroshot_macemp.results[\"energy\"]),\n",
    "        torch.from_numpy(zeroshot_macemp.results[\"forces\"])\n",
    "    )\n",
    "    zeroshot_predictions.append(predictions)"
   ]
  },
  {
   "cell_type": "code",
   "execution_count": 67,
   "id": "a05f2874",
   "metadata": {},
   "outputs": [],
   "source": [
    "# Here we find the constant correction for the predictions\n",
    "all_pred_energy = []\n",
    "all_target_energy = []\n",
    "for i, atom_data in enumerate(ase_val_dset):\n",
    "    targets = Target(\n",
    "        energy=torch.tensor(atom_data.get_potential_energy()).float(),\n",
    "        forces=torch.from_numpy(atom_data.get_forces()).float(),\n",
    "    )\n",
    "    predictions = zeroshot_predictions[i]\n",
    "    all_target_energy.append(targets.energy)\n",
    "    all_pred_energy.append(predictions.energy)\n",
    "constant_difference = torch.tensor(all_pred_energy).mean() - torch.tensor(all_target_energy).mean()"
   ]
  },
  {
   "cell_type": "code",
   "execution_count": 68,
   "id": "07e45728",
   "metadata": {},
   "outputs": [],
   "source": [
    "# and finally compute the metrics with corrected free energies\n",
    "zeroshot_energy_mae = franken.metrics.init_metric(\"energy_MAE\", device=\"cpu\")\n",
    "zeroshot_forces_mae = franken.metrics.init_metric(\"forces_MAE\", device=\"cpu\")\n",
    "for i, atom_data in enumerate(ase_val_dset):\n",
    "    targets = Target(\n",
    "        energy=torch.tensor(atom_data.get_potential_energy()).float(),\n",
    "        forces=torch.from_numpy(atom_data.get_forces()).float(),\n",
    "    )\n",
    "    zeroshot_predictions[i] = Target(\n",
    "        energy=zeroshot_predictions[i].energy - constant_difference,\n",
    "        forces=zeroshot_predictions[i].forces\n",
    "    )\n",
    "    zeroshot_energy_mae.update(zeroshot_predictions[i], targets)\n",
    "    zeroshot_forces_mae.update(zeroshot_predictions[i], targets)\n",
    "zeroshot_energy_mae = zeroshot_energy_mae.compute()\n",
    "zeroshot_forces_mae = zeroshot_forces_mae.compute()"
   ]
  },
  {
   "cell_type": "code",
   "execution_count": 69,
   "id": "ccb3455e",
   "metadata": {},
   "outputs": [
    {
     "name": "stdout",
     "output_type": "stream",
     "text": [
      "Zero-shot MACE-MP0 energy error = tensor([2.3443]) eV/atom\n",
      "Zero-shot MACE-MP0 forces error = tensor([132.8902]) eV/Angstrom\n"
     ]
    }
   ],
   "source": [
    "print(f\"Zero-shot MACE-MP0 energy error = {zeroshot_energy_mae} eV/atom\")\n",
    "print(f\"Zero-shot MACE-MP0 forces error = {zeroshot_forces_mae} eV/Angstrom\")"
   ]
  },
  {
   "cell_type": "markdown",
   "id": "5e66f0e9",
   "metadata": {},
   "source": [
    "We can also plot the error distribution for both methods to see the large improvement with `franken`"
   ]
  },
  {
   "cell_type": "code",
   "execution_count": 70,
   "id": "51555c78",
   "metadata": {},
   "outputs": [
    {
     "data": {
      "text/plain": [
       "Text(0.5, 1.0, 'Force errors')"
      ]
     },
     "execution_count": 70,
     "metadata": {},
     "output_type": "execute_result"
    },
    {
     "data": {
      "image/png": "[encoded data removed]",
      "text/plain": [
       "<Figure size 1000x400 with 2 Axes>"
      ]
     },
     "metadata": {},
     "output_type": "display_data"
    }
   ],
   "source": [
    "energy_mae = franken.metrics.init_metric(\"energy_MAE\", device=\"cpu\")\n",
    "forces_mae = franken.metrics.init_metric(\"forces_MAE\", device=\"cpu\")\n",
    "errors = {\n",
    "    \"energy\": {\n",
    "        \"franken\": [],\n",
    "        \"zeroshot\": []\n",
    "    },\n",
    "    \"forces\": {\n",
    "        \"franken\": [],\n",
    "        \"zeroshot\": []\n",
    "    }\n",
    "}\n",
    "for i, atom_data in enumerate(ase_val_dset):\n",
    "    targets = Target(\n",
    "        energy=torch.tensor(atom_data.get_potential_energy()).float(),\n",
    "        forces=torch.from_numpy(atom_data.get_forces()).float(),\n",
    "    )\n",
    "    energy_mae.update(zeroshot_predictions[i], targets)\n",
    "    errors[\"energy\"][\"zeroshot\"].append(energy_mae.compute(reset=True).item())\n",
    "    energy_mae.update(franken_predictions[i], targets)\n",
    "    errors[\"energy\"][\"franken\"].append(energy_mae.compute(reset=True).item())\n",
    "    forces_mae.update(zeroshot_predictions[i], targets)\n",
    "    errors[\"forces\"][\"zeroshot\"].append(forces_mae.compute(reset=True).item())\n",
    "    forces_mae.update(franken_predictions[i], targets)\n",
    "    errors[\"forces\"][\"franken\"].append(forces_mae.compute(reset=True).item())\n",
    "\n",
    "fig, axs = plt.subplots(ncols=2, figsize=(10, 4))\n",
    "data = (\n",
    "    [errors[\"energy\"][\"zeroshot\"], errors[\"energy\"][\"franken\"]],\n",
    "    [errors[\"forces\"][\"zeroshot\"], errors[\"forces\"][\"franken\"]]\n",
    ")\n",
    "colors = ['#5975A4', '#CC8963']\n",
    "for i, ax in enumerate(axs):\n",
    "    quartile1, medians, quartile3 = np.percentile(data[i], [25, 50, 75], axis=1)\n",
    "    vp = ax.violinplot(data[i], showextrema=False)\n",
    "    for j, pc in enumerate(vp['bodies']):\n",
    "        pc.set_facecolor(colors[j])\n",
    "        pc.set_edgecolor('black')\n",
    "        pc.set_alpha(0.9)\n",
    "    ax.scatter([1, 2], medians, marker='o', color='white', s=30, zorder=3)\n",
    "    ax.vlines([1, 2], quartile1, quartile3, color='k', linestyle='-', lw=5)\n",
    "    ax.vlines([1, 2], np.min(data[i], axis=1), np.max(data[i], axis=1), color='k', lw=1)\n",
    "    ax.set_xticks([1, 2], [\"Zero shot\", \"Franken\"])\n",
    "axs[0].set_ylabel(\"Energy MAE (eV/atom)\")\n",
    "axs[0].set_title(\"Energy errors\")\n",
    "axs[1].set_ylabel(\"Forces MAE (eV/Å)\")\n",
    "axs[1].set_title(\"Force errors\")"
   ]
  }
 ],
 "metadata": {
  "kernelspec": {
   "display_name": "Python 3 (ipykernel)",
   "language": "python",
   "name": "python3"
  },
  "language_info": {
   "codemirror_mode": {
    "name": "ipython",
    "version": 3
   },
   "file_extension": ".py",
   "mimetype": "text/x-python",
   "name": "python",
   "nbconvert_exporter": "python",
   "pygments_lexer": "ipython3",
   "version": "3.11.11"
  },
  "widgets": {
   "application/vnd.jupyter.widget-state+json": {
    "state": {
     "049b987390934865b0f732069dce90ab": {
      "model_module": "@jupyter-widgets/controls",
      "model_module_version": "2.0.0",
      "model_name": "HTMLStyleModel",
      "state": {
       "description_width": "",
       "font_size": null,
       "text_color": null
      }
     },
     "06bf47769af14d30b76793e26b880960": {
      "model_module": "@jupyter-widgets/controls",
      "model_module_version": "2.0.0",
      "model_name": "HTMLModel",
      "state": {
       "layout": "IPY_MODEL_8233312c44094e02ace866daa6ce5f85",
       "style": "IPY_MODEL_96ab6f4501f4407cb505f4c350a629c1",
       "value": "Predicting energies and forces: 100%"
      }
     },
     "0724eced2a174754847d29236e9a48df": {
      "model_module": "@jupyter-widgets/controls",
      "model_module_version": "2.0.0",
      "model_name": "ProgressStyleModel",
      "state": {
       "description_width": ""
      }
     },
     "0b0701f76c2f4ad49a8531fc3f722b39": {
      "model_module": "@jupyter-widgets/controls",
      "model_module_version": "2.0.0",
      "model_name": "HTMLModel",
      "state": {
       "layout": "IPY_MODEL_96d09eb67266420bbfb56733b690e2e3",
       "style": "IPY_MODEL_c58338ffca0241c2a00ee1f1f4dd70b3",
       "value": " 189/189 [00:03&lt;00:00, 56.17it/s]"
      }
     },
     "0d9ba62953584516883722f820bf9eda": {
      "model_module": "@jupyter-widgets/controls",
      "model_module_version": "2.0.0",
      "model_name": "HTMLStyleModel",
      "state": {
       "description_width": "",
       "font_size": null,
       "text_color": null
      }
     },
     "10736dfbfd7a4062b80663ead27cf9e3": {
      "model_module": "@jupyter-widgets/controls",
      "model_module_version": "2.0.0",
      "model_name": "FloatProgressModel",
      "state": {
       "bar_style": "success",
       "layout": "IPY_MODEL_866efde63f5a4cb591194cc7de9939c4",
       "max": 189,
       "style": "IPY_MODEL_b6fa1c1e2e6543f6b0ae4e67bf7bbda5",
       "value": 189
      }
     },
     "10b744dfeddb47ce98b5b2194ce8c7d2": {
      "model_module": "@jupyter-widgets/controls",
      "model_module_version": "2.0.0",
      "model_name": "ProgressStyleModel",
      "state": {
       "description_width": ""
      }
     },
     "1161fdaeefd84bf08646a51f0842627c": {
      "model_module": "@jupyter-widgets/base",
      "model_module_version": "2.0.0",
      "model_name": "LayoutModel",
      "state": {}
     },
     "1863f2deb5014920963a359b60fbbb24": {
      "model_module": "@jupyter-widgets/base",
      "model_module_version": "2.0.0",
      "model_name": "LayoutModel",
      "state": {}
     },
     "18b49d0bc49b4b68bd94a3e7a64b0030": {
      "model_module": "@jupyter-widgets/controls",
      "model_module_version": "2.0.0",
      "model_name": "HTMLStyleModel",
      "state": {
       "description_width": "",
       "font_size": null,
       "text_color": null
      }
     },
     "24a364e5d3e24a07a9c3b79fbbad76a4": {
      "model_module": "@jupyter-widgets/controls",
      "model_module_version": "2.0.0",
      "model_name": "FloatProgressModel",
      "state": {
       "bar_style": "success",
       "layout": "IPY_MODEL_a95c7ecfd8cb4f1cac2c14e139a23b49",
       "max": 189,
       "style": "IPY_MODEL_fac7e5f1c61047be8de993eefab305d8",
       "value": 189
      }
     },
     "27e28aa9647f4a33905a0119798ba94e": {
      "model_module": "@jupyter-widgets/base",
      "model_module_version": "2.0.0",
      "model_name": "LayoutModel",
      "state": {}
     },
     "2978fd7427a947d0ab8f638dd0bac752": {
      "model_module": "@jupyter-widgets/base",
      "model_module_version": "2.0.0",
      "model_name": "LayoutModel",
      "state": {}
     },
     "2c1db00ce541467690a8b304629f0772": {
      "model_module": "@jupyter-widgets/controls",
      "model_module_version": "2.0.0",
      "model_name": "HTMLModel",
      "state": {
       "layout": "IPY_MODEL_b7fbd51be77640e5b65f356ee7b480aa",
       "style": "IPY_MODEL_49d40f55f5d34fdcb90181b04bb7adee",
       "value": "ASE -&gt; MACE (train): 100%"
      }
     },
     "2feefb3cdcd64485889e94f962fba871": {
      "model_module": "@jupyter-widgets/controls",
      "model_module_version": "2.0.0",
      "model_name": "ProgressStyleModel",
      "state": {
       "description_width": ""
      }
     },
     "31ae63b159bf4d728733c6a994ad1650": {
      "model_module": "@jupyter-widgets/controls",
      "model_module_version": "2.0.0",
      "model_name": "ProgressStyleModel",
      "state": {
       "description_width": ""
      }
     },
     "321a1ae4e50b4b4298c48ddddbc85e82": {
      "model_module": "@jupyter-widgets/base",
      "model_module_version": "2.0.0",
      "model_name": "LayoutModel",
      "state": {}
     },
     "3bca766ef4d641faac66ccfb274ff934": {
      "model_module": "@jupyter-widgets/controls",
      "model_module_version": "2.0.0",
      "model_name": "ProgressStyleModel",
      "state": {
       "description_width": ""
      }
     },
     "3c7208f699be4302993cb8ca2b05aad5": {
      "model_module": "@jupyter-widgets/controls",
      "model_module_version": "2.0.0",
      "model_name": "HTMLStyleModel",
      "state": {
       "description_width": "",
       "font_size": null,
       "text_color": null
      }
     },
     "3eaf5a01a00148f28300137e5110067a": {
      "model_module": "@jupyter-widgets/controls",
      "model_module_version": "2.0.0",
      "model_name": "HTMLStyleModel",
      "state": {
       "description_width": "",
       "font_size": null,
       "text_color": null
      }
     },
     "4120a957617a4d3584a8fd455dd984d6": {
      "model_module": "@jupyter-widgets/base",
      "model_module_version": "2.0.0",
      "model_name": "LayoutModel",
      "state": {}
     },
     "4157ca29f21e4a05af4d23d3ad30d999": {
      "model_module": "@jupyter-widgets/controls",
      "model_module_version": "2.0.0",
      "model_name": "HBoxModel",
      "state": {
       "children": [
        "IPY_MODEL_f88df6030b3946b5a25c27bdfcf3e959",
        "IPY_MODEL_bd53071683a24bd78f510cf3903f58bc",
        "IPY_MODEL_9f53f4bb52544f78b2d1fff5d60f868b"
       ],
       "layout": "IPY_MODEL_c219695054234b4e8d46c86ae6726270"
      }
     },
     "42d10a30352b416e88509e9cf5be995f": {
      "model_module": "@jupyter-widgets/controls",
      "model_module_version": "2.0.0",
      "model_name": "FloatProgressModel",
      "state": {
       "bar_style": "success",
       "layout": "IPY_MODEL_321a1ae4e50b4b4298c48ddddbc85e82",
       "max": 8,
       "style": "IPY_MODEL_31ae63b159bf4d728733c6a994ad1650",
       "value": 8
      }
     },
     "45cddb7a27ec4922b44915f1128f1119": {
      "model_module": "@jupyter-widgets/base",
      "model_module_version": "2.0.0",
      "model_name": "LayoutModel",
      "state": {}
     },
     "46938dc4bd364099aee90c333c72b8d7": {
      "model_module": "@jupyter-widgets/controls",
      "model_module_version": "2.0.0",
      "model_name": "HTMLModel",
      "state": {
       "layout": "IPY_MODEL_c0b3404732e44218bb0ac393c5ff5b77",
       "style": "IPY_MODEL_891d929d2e2c41669950c68b29aa8ef9",
       "value": " 8/8 [00:19&lt;00:00, 48.38it/s]"
      }
     },
     "47af3a1c4e9b4f34a069be513c06d4a5": {
      "model_module": "@jupyter-widgets/controls",
      "model_module_version": "2.0.0",
      "model_name": "ProgressStyleModel",
      "state": {
       "description_width": ""
      }
     },
     "47fe2ca76da540df9aa1519dcbe4d550": {
      "model_module": "@jupyter-widgets/controls",
      "model_module_version": "2.0.0",
      "model_name": "HTMLStyleModel",
      "state": {
       "description_width": "",
       "font_size": null,
       "text_color": null
      }
     },
     "486fe4d6243f40d190531eee1fff1074": {
      "model_module": "@jupyter-widgets/base",
      "model_module_version": "2.0.0",
      "model_name": "LayoutModel",
      "state": {}
     },
     "48cd102bbc29402ca744bb4fb96b3384": {
      "model_module": "@jupyter-widgets/controls",
      "model_module_version": "2.0.0",
      "model_name": "FloatProgressModel",
      "state": {
       "bar_style": "success",
       "layout": "IPY_MODEL_45cddb7a27ec4922b44915f1128f1119",
       "max": 8,
       "style": "IPY_MODEL_2feefb3cdcd64485889e94f962fba871",
       "value": 8
      }
     },
     "49d40f55f5d34fdcb90181b04bb7adee": {
      "model_module": "@jupyter-widgets/controls",
      "model_module_version": "2.0.0",
      "model_name": "HTMLStyleModel",
      "state": {
       "description_width": "",
       "font_size": null,
       "text_color": null
      }
     },
     "4ad62ffec61b40cbafe33bbb2c9b2f28": {
      "model_module": "@jupyter-widgets/controls",
      "model_module_version": "2.0.0",
      "model_name": "ProgressStyleModel",
      "state": {
       "description_width": ""
      }
     },
     "4cb065186ce5464cb6af06eae107cfc0": {
      "model_module": "@jupyter-widgets/base",
      "model_module_version": "2.0.0",
      "model_name": "LayoutModel",
      "state": {}
     },
     "4ddf22d4b7424c4d9bd73f5701853a61": {
      "model_module": "@jupyter-widgets/controls",
      "model_module_version": "2.0.0",
      "model_name": "HTMLStyleModel",
      "state": {
       "description_width": "",
       "font_size": null,
       "text_color": null
      }
     },
     "52388d13743344a6914af9b0c44d3b78": {
      "model_module": "@jupyter-widgets/base",
      "model_module_version": "2.0.0",
      "model_name": "LayoutModel",
      "state": {}
     },
     "52c0523770de42a894df9d5c1b9deebf": {
      "model_module": "@jupyter-widgets/controls",
      "model_module_version": "2.0.0",
      "model_name": "HTMLStyleModel",
      "state": {
       "description_width": "",
       "font_size": null,
       "text_color": null
      }
     },
     "5697bca77abb488e86f4077f6d90e95b": {
      "model_module": "@jupyter-widgets/base",
      "model_module_version": "2.0.0",
      "model_name": "LayoutModel",
      "state": {}
     },
     "574f5080830d4afaa1745aff65fa2887": {
      "model_module": "@jupyter-widgets/controls",
      "model_module_version": "2.0.0",
      "model_name": "HBoxModel",
      "state": {
       "children": [
        "IPY_MODEL_06bf47769af14d30b76793e26b880960",
        "IPY_MODEL_5e6d04ec59454f788f00d48289ee63a2",
        "IPY_MODEL_d1cb1857ac6641afa3c6948989500d6c"
       ],
       "layout": "IPY_MODEL_2978fd7427a947d0ab8f638dd0bac752"
      }
     },
     "581aff3f10794b03956e522081ea3631": {
      "model_module": "@jupyter-widgets/base",
      "model_module_version": "2.0.0",
      "model_name": "LayoutModel",
      "state": {}
     },
     "58c9dfe0ab7a44c29910f5446ee82b7d": {
      "model_module": "@jupyter-widgets/controls",
      "model_module_version": "2.0.0",
      "model_name": "HTMLModel",
      "state": {
       "layout": "IPY_MODEL_4120a957617a4d3584a8fd455dd984d6",
       "style": "IPY_MODEL_664a602c259f4def9939bdaaf709cfa7",
       "value": "Predicting energies and forces: 100%"
      }
     },
     "5cd3adcb65fe4a9b8fb459ca6288161e": {
      "model_module": "@jupyter-widgets/controls",
      "model_module_version": "2.0.0",
      "model_name": "HTMLModel",
      "state": {
       "layout": "IPY_MODEL_ed52f6d8df5045a592f0825c0f820d8a",
       "style": "IPY_MODEL_3eaf5a01a00148f28300137e5110067a",
       "value": " 189/189 [00:00&lt;00:00, 214.65it/s]"
      }
     },
     "5e6d04ec59454f788f00d48289ee63a2": {
      "model_module": "@jupyter-widgets/controls",
      "model_module_version": "2.0.0",
      "model_name": "FloatProgressModel",
      "state": {
       "bar_style": "success",
       "layout": "IPY_MODEL_1161fdaeefd84bf08646a51f0842627c",
       "max": 189,
       "style": "IPY_MODEL_47af3a1c4e9b4f34a069be513c06d4a5",
       "value": 189
      }
     },
     "5fa3d137a3ae43a086ed598e482a28a3": {
      "model_module": "@jupyter-widgets/base",
      "model_module_version": "2.0.0",
      "model_name": "LayoutModel",
      "state": {}
     },
     "623db567838246d1bf2f849a9b14421b": {
      "model_module": "@jupyter-widgets/controls",
      "model_module_version": "2.0.0",
      "model_name": "HTMLStyleModel",
      "state": {
       "description_width": "",
       "font_size": null,
       "text_color": null
      }
     },
     "636aed4c97a14e32b5041ffe572c06ae": {
      "model_module": "@jupyter-widgets/controls",
      "model_module_version": "2.0.0",
      "model_name": "HBoxModel",
      "state": {
       "children": [
        "IPY_MODEL_e82e9286f1634372ad2b3a99091bdc44",
        "IPY_MODEL_10736dfbfd7a4062b80663ead27cf9e3",
        "IPY_MODEL_fbcecc423b0945e5b31533a91588fa51"
       ],
       "layout": "IPY_MODEL_f7a3be389f634b04b0bb9e54a2ee4c75"
      }
     },
     "63787dedde6647d2b80e22b8b114a4d1": {
      "model_module": "@jupyter-widgets/base",
      "model_module_version": "2.0.0",
      "model_name": "LayoutModel",
      "state": {}
     },
     "664a602c259f4def9939bdaaf709cfa7": {
      "model_module": "@jupyter-widgets/controls",
      "model_module_version": "2.0.0",
      "model_name": "HTMLStyleModel",
      "state": {
       "description_width": "",
       "font_size": null,
       "text_color": null
      }
     },
     "6749fc88175d43aa8aa545b2a3d3398f": {
      "model_module": "@jupyter-widgets/controls",
      "model_module_version": "2.0.0",
      "model_name": "ProgressStyleModel",
      "state": {
       "description_width": ""
      }
     },
     "6803a82ccbf743268768bb3b07fbe8fe": {
      "model_module": "@jupyter-widgets/controls",
      "model_module_version": "2.0.0",
      "model_name": "HTMLStyleModel",
      "state": {
       "description_width": "",
       "font_size": null,
       "text_color": null
      }
     },
     "6b16f28b39684be69ac9b32c691f2d6f": {
      "model_module": "@jupyter-widgets/controls",
      "model_module_version": "2.0.0",
      "model_name": "HTMLModel",
      "state": {
       "layout": "IPY_MODEL_27e28aa9647f4a33905a0119798ba94e",
       "style": "IPY_MODEL_52c0523770de42a894df9d5c1b9deebf",
       "value": " 8/8 [00:00&lt;00:00, 83.13it/s]"
      }
     },
     "6f71864b6efd45a5846d742c760292c5": {
      "model_module": "@jupyter-widgets/controls",
      "model_module_version": "2.0.0",
      "model_name": "HTMLStyleModel",
      "state": {
       "description_width": "",
       "font_size": null,
       "text_color": null
      }
     },
     "72f90911e0a541ada789bc5898893777": {
      "model_module": "@jupyter-widgets/base",
      "model_module_version": "2.0.0",
      "model_name": "LayoutModel",
      "state": {}
     },
     "779d5c26c6604ed6bb234b25e0150280": {
      "model_module": "@jupyter-widgets/base",
      "model_module_version": "2.0.0",
      "model_name": "LayoutModel",
      "state": {}
     },
     "77d9a154162843a98c074a97a5ec517b": {
      "model_module": "@jupyter-widgets/controls",
      "model_module_version": "2.0.0",
      "model_name": "HTMLModel",
      "state": {
       "layout": "IPY_MODEL_4cb065186ce5464cb6af06eae107cfc0",
       "style": "IPY_MODEL_623db567838246d1bf2f849a9b14421b",
       "value": " 189/189 [00:02&lt;00:00, 71.41it/s]"
      }
     },
     "7865934d35374793acd3c682c78baa5e": {
      "model_module": "@jupyter-widgets/controls",
      "model_module_version": "2.0.0",
      "model_name": "FloatProgressModel",
      "state": {
       "layout": "IPY_MODEL_72f90911e0a541ada789bc5898893777",
       "max": 8,
       "style": "IPY_MODEL_6749fc88175d43aa8aa545b2a3d3398f",
       "value": 8
      }
     },
     "7a97b7ba803048168c5db3a45d57b4fd": {
      "model_module": "@jupyter-widgets/controls",
      "model_module_version": "2.0.0",
      "model_name": "HBoxModel",
      "state": {
       "children": [
        "IPY_MODEL_b294171b3e054eba9c4e2937fdcfd64f",
        "IPY_MODEL_7e0e14a0c9344b819edfed9cf4551bfe",
        "IPY_MODEL_6b16f28b39684be69ac9b32c691f2d6f"
       ],
       "layout": "IPY_MODEL_db826d87d52e40889744fdd33ed22b70"
      }
     },
     "7bdd602efe4845a0a82acc5589692a43": {
      "model_module": "@jupyter-widgets/controls",
      "model_module_version": "2.0.0",
      "model_name": "HTMLModel",
      "state": {
       "layout": "IPY_MODEL_9770408188c44286b4f102c96ba83f4f",
       "style": "IPY_MODEL_ea1d5672bd364e1d83b8e5193008f523",
       "value": "Computing dataset statistics: 100%"
      }
     },
     "7e0e14a0c9344b819edfed9cf4551bfe": {
      "model_module": "@jupyter-widgets/controls",
      "model_module_version": "2.0.0",
      "model_name": "FloatProgressModel",
      "state": {
       "bar_style": "success",
       "layout": "IPY_MODEL_cfe153c5853b4a3ab92924af3dd8dc8a",
       "max": 8,
       "style": "IPY_MODEL_10b744dfeddb47ce98b5b2194ce8c7d2",
       "value": 8
      }
     },
     "8233312c44094e02ace866daa6ce5f85": {
      "model_module": "@jupyter-widgets/base",
      "model_module_version": "2.0.0",
      "model_name": "LayoutModel",
      "state": {}
     },
     "8438e2b1b20a4427aca99f25f15a3061": {
      "model_module": "@jupyter-widgets/base",
      "model_module_version": "2.0.0",
      "model_name": "LayoutModel",
      "state": {}
     },
     "866efde63f5a4cb591194cc7de9939c4": {
      "model_module": "@jupyter-widgets/base",
      "model_module_version": "2.0.0",
      "model_name": "LayoutModel",
      "state": {}
     },
     "891d929d2e2c41669950c68b29aa8ef9": {
      "model_module": "@jupyter-widgets/controls",
      "model_module_version": "2.0.0",
      "model_name": "HTMLStyleModel",
      "state": {
       "description_width": "",
       "font_size": null,
       "text_color": null
      }
     },
     "8aef1cc3d8214d68be0abbae8912e33d": {
      "model_module": "@jupyter-widgets/controls",
      "model_module_version": "2.0.0",
      "model_name": "HBoxModel",
      "state": {
       "children": [
        "IPY_MODEL_b8965a10ead049908cdecda34a8158b3",
        "IPY_MODEL_48cd102bbc29402ca744bb4fb96b3384",
        "IPY_MODEL_9bc8138aa3dd41fcbc098ef36d9e5c8f"
       ],
       "layout": "IPY_MODEL_920bb2aeb31c44738281aedcd461f702"
      }
     },
     "8eac38967eb842e99ff712dfe2ea4b27": {
      "model_module": "@jupyter-widgets/controls",
      "model_module_version": "2.0.0",
      "model_name": "HBoxModel",
      "state": {
       "children": [
        "IPY_MODEL_d3068de7322b40a5bf5cefcea7bd9b34",
        "IPY_MODEL_24a364e5d3e24a07a9c3b79fbbad76a4",
        "IPY_MODEL_0b0701f76c2f4ad49a8531fc3f722b39"
       ],
       "layout": "IPY_MODEL_9cf754bb87fb4f4590df10924d759994"
      }
     },
     "920bb2aeb31c44738281aedcd461f702": {
      "model_module": "@jupyter-widgets/base",
      "model_module_version": "2.0.0",
      "model_name": "LayoutModel",
      "state": {}
     },
     "96ab6f4501f4407cb505f4c350a629c1": {
      "model_module": "@jupyter-widgets/controls",
      "model_module_version": "2.0.0",
      "model_name": "HTMLStyleModel",
      "state": {
       "description_width": "",
       "font_size": null,
       "text_color": null
      }
     },
     "96d09eb67266420bbfb56733b690e2e3": {
      "model_module": "@jupyter-widgets/base",
      "model_module_version": "2.0.0",
      "model_name": "LayoutModel",
      "state": {}
     },
     "9770408188c44286b4f102c96ba83f4f": {
      "model_module": "@jupyter-widgets/base",
      "model_module_version": "2.0.0",
      "model_name": "LayoutModel",
      "state": {}
     },
     "97d9d8d95d0544e2bcc60cf148b2b5a8": {
      "model_module": "@jupyter-widgets/base",
      "model_module_version": "2.0.0",
      "model_name": "LayoutModel",
      "state": {}
     },
     "9bc8138aa3dd41fcbc098ef36d9e5c8f": {
      "model_module": "@jupyter-widgets/controls",
      "model_module_version": "2.0.0",
      "model_name": "HTMLModel",
      "state": {
       "layout": "IPY_MODEL_63787dedde6647d2b80e22b8b114a4d1",
       "style": "IPY_MODEL_049b987390934865b0f732069dce90ab",
       "value": " 8/8 [08:10&lt;00:00,  2.46s/it]"
      }
     },
     "9bfd2892e7fa4da3903d11296ccc1337": {
      "model_module": "@jupyter-widgets/controls",
      "model_module_version": "2.0.0",
      "model_name": "HBoxModel",
      "state": {
       "children": [
        "IPY_MODEL_7bdd602efe4845a0a82acc5589692a43",
        "IPY_MODEL_7865934d35374793acd3c682c78baa5e",
        "IPY_MODEL_46938dc4bd364099aee90c333c72b8d7"
       ],
       "layout": "IPY_MODEL_52388d13743344a6914af9b0c44d3b78"
      }
     },
     "9cf754bb87fb4f4590df10924d759994": {
      "model_module": "@jupyter-widgets/base",
      "model_module_version": "2.0.0",
      "model_name": "LayoutModel",
      "state": {}
     },
     "9f53f4bb52544f78b2d1fff5d60f868b": {
      "model_module": "@jupyter-widgets/controls",
      "model_module_version": "2.0.0",
      "model_name": "HTMLModel",
      "state": {
       "layout": "IPY_MODEL_f9b1f63621434626ae170b14c2457101",
       "style": "IPY_MODEL_4ddf22d4b7424c4d9bd73f5701853a61",
       "value": " 189/189 [00:00&lt;00:00, 224.14it/s]"
      }
     },
     "a95c7ecfd8cb4f1cac2c14e139a23b49": {
      "model_module": "@jupyter-widgets/base",
      "model_module_version": "2.0.0",
      "model_name": "LayoutModel",
      "state": {}
     },
     "ab034b1c0307454995a3c29e9d639ef8": {
      "model_module": "@jupyter-widgets/controls",
      "model_module_version": "2.0.0",
      "model_name": "HTMLStyleModel",
      "state": {
       "description_width": "",
       "font_size": null,
       "text_color": null
      }
     },
     "abb89e7fc09a41c581fc4cc38a572c0f": {
      "model_module": "@jupyter-widgets/controls",
      "model_module_version": "2.0.0",
      "model_name": "HTMLStyleModel",
      "state": {
       "description_width": "",
       "font_size": null,
       "text_color": null
      }
     },
     "b1e3e7ac3b8d498ab9e752789765af27": {
      "model_module": "@jupyter-widgets/base",
      "model_module_version": "2.0.0",
      "model_name": "LayoutModel",
      "state": {}
     },
     "b294171b3e054eba9c4e2937fdcfd64f": {
      "model_module": "@jupyter-widgets/controls",
      "model_module_version": "2.0.0",
      "model_name": "HTMLModel",
      "state": {
       "layout": "IPY_MODEL_486fe4d6243f40d190531eee1fff1074",
       "style": "IPY_MODEL_ab034b1c0307454995a3c29e9d639ef8",
       "value": "ASE -&gt; MACE (train): 100%"
      }
     },
     "b5171294d2c64e0194133ef1e8b3d4b4": {
      "model_module": "@jupyter-widgets/controls",
      "model_module_version": "2.0.0",
      "model_name": "HBoxModel",
      "state": {
       "children": [
        "IPY_MODEL_58c9dfe0ab7a44c29910f5446ee82b7d",
        "IPY_MODEL_bd982c6212fd4b0bafa48a480a05bfdb",
        "IPY_MODEL_77d9a154162843a98c074a97a5ec517b"
       ],
       "layout": "IPY_MODEL_f42ea1b583b344caa6067281e5ef9f16"
      }
     },
     "b6fa1c1e2e6543f6b0ae4e67bf7bbda5": {
      "model_module": "@jupyter-widgets/controls",
      "model_module_version": "2.0.0",
      "model_name": "ProgressStyleModel",
      "state": {
       "description_width": ""
      }
     },
     "b7e8b5ebecc44dfabf43a185384f8a37": {
      "model_module": "@jupyter-widgets/controls",
      "model_module_version": "2.0.0",
      "model_name": "HBoxModel",
      "state": {
       "children": [
        "IPY_MODEL_c3bb775c8566430a8daae060d2200352",
        "IPY_MODEL_bdc96477278541ad965ebe5690e27441",
        "IPY_MODEL_5cd3adcb65fe4a9b8fb459ca6288161e"
       ],
       "layout": "IPY_MODEL_1863f2deb5014920963a359b60fbbb24"
      }
     },
     "b7fbd51be77640e5b65f356ee7b480aa": {
      "model_module": "@jupyter-widgets/base",
      "model_module_version": "2.0.0",
      "model_name": "LayoutModel",
      "state": {}
     },
     "b8965a10ead049908cdecda34a8158b3": {
      "model_module": "@jupyter-widgets/controls",
      "model_module_version": "2.0.0",
      "model_name": "HTMLModel",
      "state": {
       "layout": "IPY_MODEL_b1e3e7ac3b8d498ab9e752789765af27",
       "style": "IPY_MODEL_abb89e7fc09a41c581fc4cc38a572c0f",
       "value": "Computing dataset statistics: 100%"
      }
     },
     "bd53071683a24bd78f510cf3903f58bc": {
      "model_module": "@jupyter-widgets/controls",
      "model_module_version": "2.0.0",
      "model_name": "FloatProgressModel",
      "state": {
       "bar_style": "success",
       "layout": "IPY_MODEL_779d5c26c6604ed6bb234b25e0150280",
       "max": 189,
       "style": "IPY_MODEL_4ad62ffec61b40cbafe33bbb2c9b2f28",
       "value": 189
      }
     },
     "bd982c6212fd4b0bafa48a480a05bfdb": {
      "model_module": "@jupyter-widgets/controls",
      "model_module_version": "2.0.0",
      "model_name": "FloatProgressModel",
      "state": {
       "bar_style": "success",
       "layout": "IPY_MODEL_dbe6792414b849f0a377df99a279ca9d",
       "max": 189,
       "style": "IPY_MODEL_0724eced2a174754847d29236e9a48df",
       "value": 189
      }
     },
     "bdc96477278541ad965ebe5690e27441": {
      "model_module": "@jupyter-widgets/controls",
      "model_module_version": "2.0.0",
      "model_name": "FloatProgressModel",
      "state": {
       "bar_style": "success",
       "layout": "IPY_MODEL_5fa3d137a3ae43a086ed598e482a28a3",
       "max": 189,
       "style": "IPY_MODEL_3bca766ef4d641faac66ccfb274ff934",
       "value": 189
      }
     },
     "c0b3404732e44218bb0ac393c5ff5b77": {
      "model_module": "@jupyter-widgets/base",
      "model_module_version": "2.0.0",
      "model_name": "LayoutModel",
      "state": {}
     },
     "c219695054234b4e8d46c86ae6726270": {
      "model_module": "@jupyter-widgets/base",
      "model_module_version": "2.0.0",
      "model_name": "LayoutModel",
      "state": {}
     },
     "c3bb775c8566430a8daae060d2200352": {
      "model_module": "@jupyter-widgets/controls",
      "model_module_version": "2.0.0",
      "model_name": "HTMLModel",
      "state": {
       "layout": "IPY_MODEL_5697bca77abb488e86f4077f6d90e95b",
       "style": "IPY_MODEL_c6144930999146ada38c92159cfbfd95",
       "value": "ASE -&gt; MACE (val): 100%"
      }
     },
     "c58338ffca0241c2a00ee1f1f4dd70b3": {
      "model_module": "@jupyter-widgets/controls",
      "model_module_version": "2.0.0",
      "model_name": "HTMLStyleModel",
      "state": {
       "description_width": "",
       "font_size": null,
       "text_color": null
      }
     },
     "c6144930999146ada38c92159cfbfd95": {
      "model_module": "@jupyter-widgets/controls",
      "model_module_version": "2.0.0",
      "model_name": "HTMLStyleModel",
      "state": {
       "description_width": "",
       "font_size": null,
       "text_color": null
      }
     },
     "c6192abd30f6496b9e525f337e670aea": {
      "model_module": "@jupyter-widgets/base",
      "model_module_version": "2.0.0",
      "model_name": "LayoutModel",
      "state": {}
     },
     "ce259435ef354e52bd219629abdd3039": {
      "model_module": "@jupyter-widgets/base",
      "model_module_version": "2.0.0",
      "model_name": "LayoutModel",
      "state": {}
     },
     "cfe153c5853b4a3ab92924af3dd8dc8a": {
      "model_module": "@jupyter-widgets/base",
      "model_module_version": "2.0.0",
      "model_name": "LayoutModel",
      "state": {}
     },
     "d1cb1857ac6641afa3c6948989500d6c": {
      "model_module": "@jupyter-widgets/controls",
      "model_module_version": "2.0.0",
      "model_name": "HTMLModel",
      "state": {
       "layout": "IPY_MODEL_c6192abd30f6496b9e525f337e670aea",
       "style": "IPY_MODEL_47fe2ca76da540df9aa1519dcbe4d550",
       "value": " 189/189 [00:05&lt;00:00, 34.22it/s]"
      }
     },
     "d3068de7322b40a5bf5cefcea7bd9b34": {
      "model_module": "@jupyter-widgets/controls",
      "model_module_version": "2.0.0",
      "model_name": "HTMLModel",
      "state": {
       "layout": "IPY_MODEL_8438e2b1b20a4427aca99f25f15a3061",
       "style": "IPY_MODEL_18b49d0bc49b4b68bd94a3e7a64b0030",
       "value": "Predicting energies and forces: 100%"
      }
     },
     "db826d87d52e40889744fdd33ed22b70": {
      "model_module": "@jupyter-widgets/base",
      "model_module_version": "2.0.0",
      "model_name": "LayoutModel",
      "state": {}
     },
     "dbe6792414b849f0a377df99a279ca9d": {
      "model_module": "@jupyter-widgets/base",
      "model_module_version": "2.0.0",
      "model_name": "LayoutModel",
      "state": {}
     },
     "e0744d98e05f41448b6e4ef921f51271": {
      "model_module": "@jupyter-widgets/base",
      "model_module_version": "2.0.0",
      "model_name": "LayoutModel",
      "state": {}
     },
     "e479ff705ea045c0a99032675dca31bf": {
      "model_module": "@jupyter-widgets/controls",
      "model_module_version": "2.0.0",
      "model_name": "HBoxModel",
      "state": {
       "children": [
        "IPY_MODEL_2c1db00ce541467690a8b304629f0772",
        "IPY_MODEL_42d10a30352b416e88509e9cf5be995f",
        "IPY_MODEL_ff8231ee3c284b3382ee6d792093e564"
       ],
       "layout": "IPY_MODEL_eecaf8fa3d4d4145a51928356ebf8c97"
      }
     },
     "e82e9286f1634372ad2b3a99091bdc44": {
      "model_module": "@jupyter-widgets/controls",
      "model_module_version": "2.0.0",
      "model_name": "HTMLModel",
      "state": {
       "layout": "IPY_MODEL_ce259435ef354e52bd219629abdd3039",
       "style": "IPY_MODEL_6803a82ccbf743268768bb3b07fbe8fe",
       "value": "Predicting energies and forces: 100%"
      }
     },
     "ea1d5672bd364e1d83b8e5193008f523": {
      "model_module": "@jupyter-widgets/controls",
      "model_module_version": "2.0.0",
      "model_name": "HTMLStyleModel",
      "state": {
       "description_width": "",
       "font_size": null,
       "text_color": null
      }
     },
     "ed52f6d8df5045a592f0825c0f820d8a": {
      "model_module": "@jupyter-widgets/base",
      "model_module_version": "2.0.0",
      "model_name": "LayoutModel",
      "state": {}
     },
     "eecaf8fa3d4d4145a51928356ebf8c97": {
      "model_module": "@jupyter-widgets/base",
      "model_module_version": "2.0.0",
      "model_name": "LayoutModel",
      "state": {}
     },
     "f42ea1b583b344caa6067281e5ef9f16": {
      "model_module": "@jupyter-widgets/base",
      "model_module_version": "2.0.0",
      "model_name": "LayoutModel",
      "state": {}
     },
     "f7a3be389f634b04b0bb9e54a2ee4c75": {
      "model_module": "@jupyter-widgets/base",
      "model_module_version": "2.0.0",
      "model_name": "LayoutModel",
      "state": {}
     },
     "f88df6030b3946b5a25c27bdfcf3e959": {
      "model_module": "@jupyter-widgets/controls",
      "model_module_version": "2.0.0",
      "model_name": "HTMLModel",
      "state": {
       "layout": "IPY_MODEL_581aff3f10794b03956e522081ea3631",
       "style": "IPY_MODEL_6f71864b6efd45a5846d742c760292c5",
       "value": "ASE -&gt; MACE (val): 100%"
      }
     },
     "f9b1f63621434626ae170b14c2457101": {
      "model_module": "@jupyter-widgets/base",
      "model_module_version": "2.0.0",
      "model_name": "LayoutModel",
      "state": {}
     },
     "fac7e5f1c61047be8de993eefab305d8": {
      "model_module": "@jupyter-widgets/controls",
      "model_module_version": "2.0.0",
      "model_name": "ProgressStyleModel",
      "state": {
       "description_width": ""
      }
     },
     "fbcecc423b0945e5b31533a91588fa51": {
      "model_module": "@jupyter-widgets/controls",
      "model_module_version": "2.0.0",
      "model_name": "HTMLModel",
      "state": {
       "layout": "IPY_MODEL_e0744d98e05f41448b6e4ef921f51271",
       "style": "IPY_MODEL_0d9ba62953584516883722f820bf9eda",
       "value": " 189/189 [00:05&lt;00:00, 38.95it/s]"
      }
     },
     "ff8231ee3c284b3382ee6d792093e564": {
      "model_module": "@jupyter-widgets/controls",
      "model_module_version": "2.0.0",
      "model_name": "HTMLModel",
      "state": {
       "layout": "IPY_MODEL_97d9d8d95d0544e2bcc60cf148b2b5a8",
       "style": "IPY_MODEL_3c7208f699be4302993cb8ca2b05aad5",
       "value": " 8/8 [00:00&lt;00:00, 92.17it/s]"
      }
     }
    },
    "version_major": 2,
    "version_minor": 0
   }
  }
 },
 "nbformat": 4,
 "nbformat_minor": 5
}
