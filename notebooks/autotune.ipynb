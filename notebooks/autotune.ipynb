{
 "cells": [
  {
   "cell_type": "markdown",
   "id": "527f74f4",
   "metadata": {},
   "source": [
    "# Automatic Hyperparameter Tuning\n",
    "\n",
    "In this notebook we show how the `franken` library can be used to automatically find\n",
    "the best hyperparameters (HPs) for fitting potential functions on a given dataset. The HP\n",
    "search procedure is a simple grid-search over\n",
    " 1. The kernel parameters (e.g length-scale, polynomial degree, ...)\n",
    " 2. The solver parameters (e.g. force-weight, ridge penalty, ...)\n",
    "\n",
    "This tuning procedure can be equivalently run using the code from this notebook, or from\n",
    "the command-line using the `franken.autotune` command and specifying all options on the CLI.\n",
    "\n",
    "This notebook is also available on [Google colab](https://colab.research.google.com/drive/1WOtoad4ju3TfpYFYBomB5KT2TmQ-OMxc?usp=sharing) for easy running."
   ]
  },
  {
   "cell_type": "code",
   "execution_count": 2,
   "id": "358454fc",
   "metadata": {},
   "outputs": [],
   "source": [
    "try:\n",
    "    import franken\n",
    "except ImportError:\n",
    "    %pip install franken[mace]\n",
    "    import franken"
   ]
  },
  {
   "cell_type": "code",
   "execution_count": 44,
   "id": "4923cafe",
   "metadata": {},
   "outputs": [],
   "source": [
    "import json\n",
    "\n",
    "import matplotlib\n",
    "import matplotlib.pyplot as plt\n",
    "import pandas as pd\n",
    "\n",
    "from franken.autotune import autotune\n",
    "from franken.config import MaceBackboneConfig, GaussianRFConfig, DatasetConfig, SolverConfig, HPSearchConfig, AutotuneConfig"
   ]
  },
  {
   "cell_type": "markdown",
   "id": "8a1b5b05",
   "metadata": {},
   "source": [
    "The process of running `autotune` is simple: first initialize all configuration objects. These will also include the definition of the hyperparameter search-space.\n",
    "Then simply pass all objects to `autotune` which will run the training algorithm for each hyperparameters setting and figure out which one performs the best.\n",
    "For this to work it is very important to provide a **validation dataset** which is different from the training set. The \"water\" dataset we use in the notebook also comes with a pre-defined validation split."
   ]
  },
  {
   "cell_type": "markdown",
   "id": "d7f66b3f-4322-4371-8f8b-225ee206b927",
   "metadata": {},
   "source": [
    "The equivalent `franken.autotune` command to the configuration defined here is:\n",
    "```bash\n",
    "franken.autotune \\\n",
    "    --dataset.name \"water\" --dataset.max-train-samples 8 \\\n",
    "    --solver.l2-penalty.start -10 --solver.l2-penalty.stop -5 --solver.l2-penalty.num 5 --solver.l2-penalty.scale 'log' \\\n",
    "    --solver.force-weight.start 0.01 --solver.force-weight.stop 0.99 --solver.force-weight.num 5 --solver.force-weight.scale 'linear' \\\n",
    "    --seed 42 \\\n",
    "    --jac-chunk-size 64 \\\n",
    "    --run-dir \"./results\" \\\n",
    "    backbone:mace --backbone.path-or-id \"MACE-L0\" --backbone.interaction_block 2 \\\n",
    "    rfs:gaussian --rfs.num-random-features 512 --rfs.length-scale.values 10.0 15.0\n",
    "```\n",
    "\n",
    "<div class=\"alert alert-block alert-info\"> \n",
    "<b>NOTE</b> The <code>backbone</code> and <code>rfs</code> options must be specified after all other options and in this order for the CLI parsing to succeed.\n",
    "</div>"
   ]
  },
  {
   "cell_type": "markdown",
   "id": "8f022742",
   "metadata": {},
   "source": [
    "The GNN and dataset configurations are fixed. We use just 8 training samples to reduce the computation time for CoLab, but if you run this locally you can increase it."
   ]
  },
  {
   "cell_type": "code",
   "execution_count": 3,
   "id": "dba9dce9",
   "metadata": {},
   "outputs": [],
   "source": [
    "gnn_config = MaceBackboneConfig(\n",
    "    path_or_id=\"MACE-L0\",\n",
    "    interaction_block=2,\n",
    ")\n",
    "dataset_cfg = DatasetConfig(name=\"water\", max_train_samples=8)"
   ]
  },
  {
   "cell_type": "markdown",
   "id": "188de893",
   "metadata": {},
   "source": [
    "We use Gaussian random features to run the automatic tuning on the length-scale parameter. `autotune` will test values 5, 10 and 20."
   ]
  },
  {
   "cell_type": "code",
   "execution_count": 4,
   "id": "19b4ae1d",
   "metadata": {},
   "outputs": [],
   "source": [
    "rf_config = GaussianRFConfig(\n",
    "    num_random_features=512,\n",
    "    length_scale=HPSearchConfig(values=[10.0, 15.0, 20.0, 25.0, 30.0]),\n",
    "    rng_seed=42,  # for reproducibility\n",
    ")"
   ]
  },
  {
   "cell_type": "markdown",
   "id": "290c8aaa",
   "metadata": {},
   "source": [
    "The solver parameters are less expensive to iterate over, so we can use a finer grid.\n",
    "For the `l2_penalty` HP we will test 5 logarithmically-spaced values between $10^{-10}$ and $10^{-5}$, and for the `force_weight` HP we will test 5 linearly-spaced values between 0.01 and 0.99."
   ]
  },
  {
   "cell_type": "code",
   "execution_count": 5,
   "id": "02809c15",
   "metadata": {},
   "outputs": [],
   "source": [
    "solver_cfg = SolverConfig(\n",
    "    l2_penalty=HPSearchConfig(start=-10, stop=-5, num=5, scale='log'),  # equivalent of numpy.logspace\n",
    "    force_weight=HPSearchConfig(start=0.01, stop=0.99, num=5, scale='linear'),  # equivalent of numpy.linspace\n",
    ")"
   ]
  },
  {
   "cell_type": "markdown",
   "id": "1c1f742d",
   "metadata": {},
   "source": [
    "Finally all configurations are grouped together and we run `autotune`.\n",
    "Note the `run_dir` setting: this is where the logs and models will be saved."
   ]
  },
  {
   "cell_type": "code",
   "execution_count": 8,
   "id": "a7d2d999",
   "metadata": {
    "scrolled": true
   },
   "outputs": [
    {
     "name": "stdout",
     "output_type": "stream",
     "text": [
      "console_logging_level: INFO\n",
      "dtype: float64\n",
      "jac_chunk_size: 64\n",
      "rf_normalization: leading_eig\n",
      "run_dir: ./results\n",
      "save_every_model: False\n",
      "save_fmaps: False\n",
      "scale_by_species: True\n",
      "seed: 42\n",
      "backbone:\n",
      "    family: mace\n",
      "    interaction_block: 2\n",
      "    path_or_id: MACE-L0\n",
      "dataset:\n",
      "    max_train_samples: 8\n",
      "    name: water\n",
      "    test_path: null\n",
      "    train_path: null\n",
      "    val_path: null\n",
      "rfs:\n",
      "    length_scale:\n",
      "      num: null\n",
      "      scale: null\n",
      "      start: null\n",
      "      stop: null\n",
      "      value: null\n",
      "      values:\n",
      "      - 10.0\n",
      "      - 15.0\n",
      "      - 20.0\n",
      "      - 25.0\n",
      "      - 30.0\n",
      "    num_random_features: 512\n",
      "    rf_type: gaussian\n",
      "    rng_seed: 42\n",
      "    use_offset: true\n",
      "solver:\n",
      "    force_weight:\n",
      "      num: 5\n",
      "      scale: linear\n",
      "      start: 0.01\n",
      "      stop: 0.99\n",
      "      value: null\n",
      "      values: null\n",
      "    l2_penalty:\n",
      "      num: 5\n",
      "      scale: log\n",
      "      start: -10\n",
      "      stop: -5\n",
      "      value: null\n",
      "      values: null\n",
      "\n",
      "2025-04-27 18:09:04.294 WARNING (rank 0): Cache directory already initialized at /leonardo/home/userexternal/gmeanti0/.franken. Reinitializing.\n",
      "2025-04-27 18:09:04.294 WARNING (rank 0): Cache directory already initialized at /leonardo/home/userexternal/gmeanti0/.franken. Reinitializing.\n",
      "2025-04-27 18:09:04.295 INFO (rank 0): Initializing cache directory from $FRANKEN_CACHE_DIR /leonardo_scratch/fast/IIT24_AtomSim/franken/franken_cache\n",
      "2025-04-27 18:09:04.295 INFO (rank 0): Initializing cache directory from $FRANKEN_CACHE_DIR /leonardo_scratch/fast/IIT24_AtomSim/franken/franken_cache\n",
      "2025-04-27 18:09:04.629 INFO (rank 0): Run folder: results/run_250427_180904_24857489\n",
      "2025-04-27 18:09:04.629 INFO (rank 0): Run folder: results/run_250427_180904_24857489\n"
     ]
    },
    {
     "data": {
      "application/vnd.jupyter.widget-view+json": {
       "model_id": "265aae81b2fa4d9db3cf36a8359c7b97",
       "version_major": 2,
       "version_minor": 0
      },
      "text/plain": [
       "ASE -> MACE (train):   0%|          | 0/8 [00:00<?, ?it/s]"
      ]
     },
     "metadata": {},
     "output_type": "display_data"
    },
    {
     "data": {
      "application/vnd.jupyter.widget-view+json": {
       "model_id": "6fe91e1788a74e6fb14d31e49e18bf51",
       "version_major": 2,
       "version_minor": 0
      },
      "text/plain": [
       "ASE -> MACE (val):   0%|          | 0/189 [00:00<?, ?it/s]"
      ]
     },
     "metadata": {},
     "output_type": "display_data"
    },
    {
     "data": {
      "application/vnd.jupyter.widget-view+json": {
       "model_id": "a9cb9d2b598a4cfe80853408c60069ea",
       "version_major": 2,
       "version_minor": 0
      },
      "text/plain": [
       "Computing dataset statistics:   0%|          | 0/8 [00:00<?, ?it/s]"
      ]
     },
     "metadata": {},
     "output_type": "display_data"
    },
    {
     "name": "stdout",
     "output_type": "stream",
     "text": [
      "2025-04-27 18:09:33.846 WARNING (rank 0): `leading_eig` normalization has high memory usage. If you encounter OOM errors try to disable it.\n",
      "2025-04-27 18:09:33.846 WARNING (rank 0): `leading_eig` normalization has high memory usage. If you encounter OOM errors try to disable it.\n",
      "2025-04-27 18:10:09.650 INFO (rank 0): Trial   1 | rf_type: gaussian | num_random_features:   512   | length_scale: 10.000  | use_offset:  True   | rng_seed:   42    | Best trial 1 (energy 0.34 meV/atom - forces 25.9 meV/Ang)\n",
      "2025-04-27 18:10:09.650 INFO (rank 0): Trial   1 | rf_type: gaussian | num_random_features:   512   | length_scale: 10.000  | use_offset:  True   | rng_seed:   42    | Best trial 1 (energy 0.34 meV/atom - forces 25.9 meV/Ang)\n",
      "2025-04-27 18:10:30.264 WARNING (rank 0): `leading_eig` normalization has high memory usage. If you encounter OOM errors try to disable it.\n",
      "2025-04-27 18:10:30.264 WARNING (rank 0): `leading_eig` normalization has high memory usage. If you encounter OOM errors try to disable it.\n",
      "2025-04-27 18:11:03.950 INFO (rank 0): Trial   2 | rf_type: gaussian | num_random_features:   512   | length_scale: 15.000  | use_offset:  True   | rng_seed:   42    | Best trial 2 (energy 0.32 meV/atom - forces 25.3 meV/Ang)\n",
      "2025-04-27 18:11:03.950 INFO (rank 0): Trial   2 | rf_type: gaussian | num_random_features:   512   | length_scale: 15.000  | use_offset:  True   | rng_seed:   42    | Best trial 2 (energy 0.32 meV/atom - forces 25.3 meV/Ang)\n",
      "2025-04-27 18:11:24.499 WARNING (rank 0): `leading_eig` normalization has high memory usage. If you encounter OOM errors try to disable it.\n",
      "2025-04-27 18:11:24.499 WARNING (rank 0): `leading_eig` normalization has high memory usage. If you encounter OOM errors try to disable it.\n",
      "2025-04-27 18:11:58.196 INFO (rank 0): Trial   3 | rf_type: gaussian | num_random_features:   512   | length_scale: 20.000  | use_offset:  True   | rng_seed:   42    | Best trial 3 (energy 0.34 meV/atom - forces 25.0 meV/Ang)\n",
      "2025-04-27 18:11:58.196 INFO (rank 0): Trial   3 | rf_type: gaussian | num_random_features:   512   | length_scale: 20.000  | use_offset:  True   | rng_seed:   42    | Best trial 3 (energy 0.34 meV/atom - forces 25.0 meV/Ang)\n",
      "2025-04-27 18:12:18.605 WARNING (rank 0): `leading_eig` normalization has high memory usage. If you encounter OOM errors try to disable it.\n",
      "2025-04-27 18:12:18.605 WARNING (rank 0): `leading_eig` normalization has high memory usage. If you encounter OOM errors try to disable it.\n",
      "2025-04-27 18:12:52.275 INFO (rank 0): Trial   4 | rf_type: gaussian | num_random_features:   512   | length_scale: 25.000  | use_offset:  True   | rng_seed:   42    | Best trial 4 (energy 0.33 meV/atom - forces 24.8 meV/Ang)\n",
      "2025-04-27 18:12:52.275 INFO (rank 0): Trial   4 | rf_type: gaussian | num_random_features:   512   | length_scale: 25.000  | use_offset:  True   | rng_seed:   42    | Best trial 4 (energy 0.33 meV/atom - forces 24.8 meV/Ang)\n",
      "2025-04-27 18:13:13.202 WARNING (rank 0): `leading_eig` normalization has high memory usage. If you encounter OOM errors try to disable it.\n",
      "2025-04-27 18:13:13.202 WARNING (rank 0): `leading_eig` normalization has high memory usage. If you encounter OOM errors try to disable it.\n",
      "2025-04-27 18:13:46.856 INFO (rank 0): Trial   5 | rf_type: gaussian | num_random_features:   512   | length_scale: 30.000  | use_offset:  True   | rng_seed:   42    | Best trial 5 (energy 0.32 meV/atom - forces 24.6 meV/Ang)\n",
      "2025-04-27 18:13:46.856 INFO (rank 0): Trial   5 | rf_type: gaussian | num_random_features:   512   | length_scale: 30.000  | use_offset:  True   | rng_seed:   42    | Best trial 5 (energy 0.32 meV/atom - forces 24.6 meV/Ang)\n"
     ]
    }
   ],
   "source": [
    "autotune_cfg = AutotuneConfig(\n",
    "    dataset=dataset_cfg,\n",
    "    solver=solver_cfg,\n",
    "    backbone=gnn_config,\n",
    "    rfs=rf_config,\n",
    "    seed=42,\n",
    "    jac_chunk_size=64,\n",
    "    run_dir=\"./results\",\n",
    ")\n",
    "\n",
    "run_path = autotune(autotune_cfg)"
   ]
  },
  {
   "cell_type": "markdown",
   "id": "55b4ccdc",
   "metadata": {},
   "source": [
    "## Analysing the results"
   ]
  },
  {
   "cell_type": "markdown",
   "id": "7870bdcf",
   "metadata": {},
   "source": [
    "There are two main outputs from the autotune procedure: the model trained with the best hyperparameters, which is saved at `\"results/best_ckpt.pt\"` and the logs which describe the errors of all the models trained.\n",
    "Here we analyze the error-log, and in the `molecular_dynamics` notebook we will use the trained model to perform some MD simulations."
   ]
  },
  {
   "cell_type": "code",
   "execution_count": 9,
   "id": "2ad5223c",
   "metadata": {},
   "outputs": [],
   "source": [
    "# We load the full logs for all training runs and the logs for just the best model.\n",
    "with open(run_path / \"log.json\", \"r\") as fh:\n",
    "    all_logs = json.load(fh)\n",
    "with open(run_path / \"best.json\", \"r\") as fh:\n",
    "    best_log = json.load(fh)"
   ]
  },
  {
   "cell_type": "code",
   "execution_count": 16,
   "id": "514ef847",
   "metadata": {},
   "outputs": [
    {
     "name": "stdout",
     "output_type": "stream",
     "text": [
      "Best hyperparameters: \n",
      "\tLength-scale: 30.0\n",
      "\tL2 penalty: 1.78e-09\n",
      "\tForce-weight: 0.010\n"
     ]
    }
   ],
   "source": [
    "best_ls = best_log[\"hyperparameters\"][\"random_features\"][\"length_scale\"]\n",
    "best_l2 = best_log[\"hyperparameters\"][\"solver\"][\"l2_penalty\"]\n",
    "best_fw = best_log[\"hyperparameters\"][\"solver\"][\"force_weight\"]\n",
    "print(\"Best hyperparameters: \")\n",
    "print(f\"\\tLength-scale: {best_ls:.1f}\")\n",
    "print(f\"\\tL2 penalty: {best_l2:.2e}\")\n",
    "print(f\"\\tForce-weight: {best_fw:.3f}\")\n"
   ]
  },
  {
   "cell_type": "markdown",
   "id": "fc77889d",
   "metadata": {},
   "source": [
    "To make the analysis easier we convert the json logs to pandas"
   ]
  },
  {
   "cell_type": "code",
   "execution_count": null,
   "id": "bf69ef31",
   "metadata": {},
   "outputs": [],
   "source": [
    "logs_df = pd.json_normalize(all_logs)  # flattens nested dictionaries and converts to DataFrame\n",
    "logs_df.head()"
   ]
  },
  {
   "cell_type": "markdown",
   "id": "87689cc4",
   "metadata": {},
   "source": [
    "Since we have three different hyperparameters it's hard to visualize their behavior all at the same time.\n",
    "We start by analyzing the behavior as the forces-weight changes from very low to very high, plotting the error on both forces and energy predictions."
   ]
  },
  {
   "cell_type": "code",
   "execution_count": 53,
   "id": "65e53e00",
   "metadata": {},
   "outputs": [
    {
     "data": {
      "text/plain": [
       "Text(0, 0.5, 'Forces MAE [eV/A]')"
      ]
     },
     "execution_count": 53,
     "metadata": {},
     "output_type": "execute_result"
    },
    {
     "data": {
      "image/png": "[encoded data removed]",
      "text/plain": [
       "<Figure size 640x480 with 2 Axes>"
      ]
     },
     "metadata": {},
     "output_type": "display_data"
    }
   ],
   "source": [
    "df_fw = logs_df[  # Fix the other two hyperparameters\n",
    "    (logs_df[\"hyperparameters.random_features.length_scale\"] == best_ls) &\n",
    "    ((logs_df[\"hyperparameters.solver.l2_penalty\"] - 5.62341325e-07).abs() < 1e-12)\n",
    "]\n",
    "df_fw = df_fw.sort_values(\"hyperparameters.solver.force_weight\")\n",
    "fig, ax = plt.subplots()\n",
    "ax.plot(\n",
    "    df_fw[\"hyperparameters.solver.force_weight\"],\n",
    "    df_fw[\"metrics.validation.energy_MAE\"],\n",
    "    label=\"Energy MAE\"\n",
    ")\n",
    "ax2 = ax.twinx()\n",
    "ax2.plot(\n",
    "    df_fw[\"hyperparameters.solver.force_weight\"],\n",
    "    df_fw[\"metrics.validation.forces_MAE\"],\n",
    "    label=\"Forces MAE\",\n",
    "    c='r'\n",
    ")\n",
    "fig.legend(loc='upper center')\n",
    "ax.set_xlabel(\"Force weight\")\n",
    "ax.set_ylabel(\"Energy MAE [eV/atom]\")\n",
    "ax2.set_ylabel(\"Forces MAE [eV/A]\")"
   ]
  },
  {
   "cell_type": "markdown",
   "id": "1632a6fb",
   "metadata": {},
   "source": [
    "Next we analyze the behaviour of the length-scale and l2 penalty hyperparameters"
   ]
  },
  {
   "cell_type": "code",
   "execution_count": null,
   "id": "585e1e0e-6481-4362-9d8e-98bd8701718f",
   "metadata": {},
   "outputs": [
    {
     "data": {
      "text/plain": [
       "Text(0, 0.5, 'L2 penalty')"
      ]
     },
     "execution_count": 66,
     "metadata": {},
     "output_type": "execute_result"
    },
    {
     "data": {
      "image/png": "[encoded data removed]",
      "text/plain": [
       "<Figure size 640x480 with 2 Axes>"
      ]
     },
     "metadata": {},
     "output_type": "display_data"
    }
   ],
   "source": [
    "df_ker = logs_df[logs_df[\"hyperparameters.solver.force_weight\"] == 0.5]\n",
    "fig, ax = plt.subplots()\n",
    "pivot = df_ker.pivot_table(\n",
    "    index=\"hyperparameters.solver.l2_penalty\",\n",
    "    columns=\"hyperparameters.random_features.length_scale\",\n",
    "    values=\"metrics.validation.forces_MAE\"\n",
    ")\n",
    "im = ax.imshow(pivot, norm=matplotlib.colors.Normalize(vmin=24, vmax=29), cmap=\"viridis_r\")\n",
    "cb = fig.colorbar(im)\n",
    "cb.set_label(\"Forces MAE [eV/A]\")\n",
    "ax.set_xticks(range(len(pivot.columns)), pivot.columns)\n",
    "ax.set_xlabel(\"Length-scale\")\n",
    "ax.set_yticks(range(len(pivot.index)), [f\"{i:.1e}\" for i in pivot.index])\n",
    "ax.set_ylabel(\"L2 penalty\")"
   ]
  }
 ],
 "metadata": {
  "kernelspec": {
   "display_name": "Python 3 (ipykernel)",
   "language": "python",
   "name": "python3"
  },
  "language_info": {
   "codemirror_mode": {
    "name": "ipython",
    "version": 3
   },
   "file_extension": ".py",
   "mimetype": "text/x-python",
   "name": "python",
   "nbconvert_exporter": "python",
   "pygments_lexer": "ipython3",
   "version": "3.11.11"
  },
  "widgets": {
   "application/vnd.jupyter.widget-state+json": {
    "state": {},
    "version_major": 2,
    "version_minor": 0
   }
  }
 },
 "nbformat": 4,
 "nbformat_minor": 5
}
